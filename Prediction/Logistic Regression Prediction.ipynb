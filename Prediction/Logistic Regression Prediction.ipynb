{
 "cells": [
  {
   "cell_type": "code",
   "execution_count": 1,
   "id": "e87fbd7b-4507-472a-97a9-f9bf969d9335",
   "metadata": {},
   "outputs": [],
   "source": [
    "import pandas as pd\n",
    "\n",
    "from sklearn.model_selection import train_test_split\n",
    "from sklearn.linear_model import LogisticRegression\n",
    "from sklearn.metrics import confusion_matrix, accuracy_score, precision_score, recall_score, f1_score, roc_auc_score \n",
    "\n",
    "import seaborn as sns\n",
    "import matplotlib.pyplot as plt\n",
    "plt.style.use('ggplot')"
   ]
  },
  {
   "cell_type": "code",
   "execution_count": 2,
   "id": "d05e574c-1f99-4f88-ba08-92f1a5af4818",
   "metadata": {},
   "outputs": [],
   "source": [
    "df_no_outliers = pd.read_csv('new_df_without_outliers_copy_smote_resampled.csv')\n",
    "df_outliers = pd.read_csv('new_df_outliers_only_copy_smote_resampled.csv')\n",
    "df_no_outliers_no_normalization = pd.read_csv('new_df_without_outliers_copy_smote_resampled_noNormalised.csv')\n",
    "df_outliers_no_normalization = pd.read_csv('new_df_outliers_only_copy_smote_resampled_noNormalised.csv')\n",
    "\n",
    "X_no_outliers = df_no_outliers.iloc[:, 0:8]\n",
    "y_no_outliers = df_no_outliers['diabetes']\n",
    "\n",
    "X_with_outliers = df_outliers.iloc[:, 0:8]\n",
    "y_with_outliers = df_outliers['diabetes']\n",
    "\n",
    "X_no_outliers_no_normalization = df_no_outliers_no_normalization.iloc[:, 0:8]\n",
    "y_no_outliers_no_normalization = df_no_outliers_no_normalization['diabetes']\n",
    "\n",
    "X_outliers_no_normalization = df_outliers_no_normalization.iloc[:, 0:8]\n",
    "y_outliers_no_normalization = df_outliers_no_normalization['diabetes']"
   ]
  },
  {
   "cell_type": "markdown",
   "id": "d667e9ab-9075-49a2-8bf2-f2208c5e5816",
   "metadata": {},
   "source": [
    "<h3> Logistic Regression on df_no_outliers<h3>"
   ]
  },
  {
   "cell_type": "code",
   "execution_count": 3,
   "id": "7a46ca91-cd52-493d-88f4-f4a2e7a91fc6",
   "metadata": {},
   "outputs": [],
   "source": [
    "# split dataset to training and test dataset\n",
    "X_train, X_test, y_train, y_test = train_test_split(X_no_outliers, y_no_outliers, \n",
    "                                                          test_size = 0.2, random_state = 42)\n",
    "\n",
    "lr = LogisticRegression()\n",
    "lr.fit(X_train, y_train)\n",
    "lr_pred = lr.predict(X_test)"
   ]
  },
  {
   "cell_type": "code",
   "execution_count": 4,
   "id": "13323a98-a363-42a4-96e4-66b0dd4466c1",
   "metadata": {},
   "outputs": [
    {
     "name": "stdout",
     "output_type": "stream",
     "text": [
      "Confusion Matrix:\n"
     ]
    },
    {
     "data": {
      "image/png": "[encoded data removed]",
      "text/plain": [
       "<Figure size 400x300 with 2 Axes>"
      ]
     },
     "metadata": {},
     "output_type": "display_data"
    }
   ],
   "source": [
    "# Confusion Matrix\n",
    "print('Confusion Matrix:')\n",
    "cm = confusion_matrix(y_test, lr_pred)\n",
    "\n",
    "# Heatmap of Confusion Matrix\n",
    "class_labels = [\"Class 0\", \"Class 1\"]\n",
    "plt.figure(figsize=(4, 3))\n",
    "sns.heatmap(cm, annot=True, fmt=\"d\", cmap=\"Blues\", xticklabels=class_labels, yticklabels=class_labels)\n",
    "plt.xlabel(\"Predicted\")\n",
    "plt.ylabel(\"True\")\n",
    "plt.title(\"Confusion Matrix\")\n",
    "plt.show()"
   ]
  },
  {
   "cell_type": "code",
   "execution_count": 5,
   "id": "e1fb14a8-f4be-4d6d-87c6-fde450752b40",
   "metadata": {},
   "outputs": [
    {
     "name": "stdout",
     "output_type": "stream",
     "text": [
      "Accuracy:\n",
      "0.872008611885506\n",
      "\n",
      "Precision:\n",
      "0.8611036627875798\n",
      "\n",
      "Recall:\n",
      "0.8869310649580203\n",
      "\n",
      "F1 score:\n",
      "0.8738265625425158\n",
      "\n",
      "ROC AUC score:\n",
      "0.8720172566169412\n"
     ]
    }
   ],
   "source": [
    "# Performance Evaluation \n",
    "print('Accuracy:')\n",
    "accuracy = accuracy_score(y_test, lr_pred)\n",
    "print(accuracy)\n",
    "\n",
    "print('\\nPrecision:')\n",
    "precision = precision_score(y_test, lr_pred)\n",
    "print(precision)\n",
    "\n",
    "print('\\nRecall:')\n",
    "recall = recall_score(y_test, lr_pred)\n",
    "print(recall)\n",
    "\n",
    "print('\\nF1 score:')\n",
    "f1 = f1_score(y_test, lr_pred) \n",
    "print(f1)\n",
    "\n",
    "print('\\nROC AUC score:')\n",
    "roc_auc = roc_auc_score(y_test, lr_pred)\n",
    "print(roc_auc)"
   ]
  },
  {
   "cell_type": "code",
   "execution_count": 6,
   "id": "7392cc31-7437-47a9-b02d-bce6032516c8",
   "metadata": {},
   "outputs": [
    {
     "name": "stdout",
     "output_type": "stream",
     "text": [
      "Training Accuracy: 0.8705724045129903\n",
      "Cross Validation Accuracy: 0.8705241003346789\n"
     ]
    }
   ],
   "source": [
    "train_accuracy = accuracy_score(y_train, lr.predict(X_train))\n",
    "print('Training Accuracy: ' + str(train_accuracy))\n",
    "\n",
    "# Cross Validation\n",
    "from sklearn import model_selection\n",
    "from sklearn.model_selection import cross_val_score\n",
    "\n",
    "kfold = model_selection.KFold(n_splits = 15, random_state = 42, shuffle = True)\n",
    "\n",
    "cv_lr = cross_val_score(estimator = lr, X = X_train, y = y_train, cv = kfold, scoring='accuracy')\n",
    "cv_accuracy = cv_lr.mean()\n",
    "print('Cross Validation Accuracy: ' + str(cv_accuracy))"
   ]
  },
  {
   "cell_type": "code",
   "execution_count": 7,
   "id": "b43d8f8e-6290-41d5-b251-07fc71128e0d",
   "metadata": {},
   "outputs": [
    {
     "data": {
      "text/html": [
       "<div>\n",
       "<style scoped>\n",
       "    .dataframe tbody tr th:only-of-type {\n",
       "        vertical-align: middle;\n",
       "    }\n",
       "\n",
       "    .dataframe tbody tr th {\n",
       "        vertical-align: top;\n",
       "    }\n",
       "\n",
       "    .dataframe thead th {\n",
       "        text-align: right;\n",
       "    }\n",
       "</style>\n",
       "<table border=\"1\" class=\"dataframe\">\n",
       "  <thead>\n",
       "    <tr style=\"text-align: right;\">\n",
       "      <th></th>\n",
       "      <th>Actual</th>\n",
       "      <th>Predicted</th>\n",
       "    </tr>\n",
       "  </thead>\n",
       "  <tbody>\n",
       "    <tr>\n",
       "      <th>52593</th>\n",
       "      <td>0</td>\n",
       "      <td>0</td>\n",
       "    </tr>\n",
       "    <tr>\n",
       "      <th>137957</th>\n",
       "      <td>1</td>\n",
       "      <td>0</td>\n",
       "    </tr>\n",
       "    <tr>\n",
       "      <th>169666</th>\n",
       "      <td>1</td>\n",
       "      <td>1</td>\n",
       "    </tr>\n",
       "    <tr>\n",
       "      <th>107263</th>\n",
       "      <td>1</td>\n",
       "      <td>1</td>\n",
       "    </tr>\n",
       "    <tr>\n",
       "      <th>31936</th>\n",
       "      <td>0</td>\n",
       "      <td>0</td>\n",
       "    </tr>\n",
       "    <tr>\n",
       "      <th>83614</th>\n",
       "      <td>0</td>\n",
       "      <td>0</td>\n",
       "    </tr>\n",
       "    <tr>\n",
       "      <th>159367</th>\n",
       "      <td>1</td>\n",
       "      <td>1</td>\n",
       "    </tr>\n",
       "    <tr>\n",
       "      <th>58640</th>\n",
       "      <td>0</td>\n",
       "      <td>0</td>\n",
       "    </tr>\n",
       "    <tr>\n",
       "      <th>179939</th>\n",
       "      <td>1</td>\n",
       "      <td>1</td>\n",
       "    </tr>\n",
       "    <tr>\n",
       "      <th>38242</th>\n",
       "      <td>0</td>\n",
       "      <td>1</td>\n",
       "    </tr>\n",
       "  </tbody>\n",
       "</table>\n",
       "</div>"
      ],
      "text/plain": [
       "        Actual  Predicted\n",
       "52593        0          0\n",
       "137957       1          0\n",
       "169666       1          1\n",
       "107263       1          1\n",
       "31936        0          0\n",
       "83614        0          0\n",
       "159367       1          1\n",
       "58640        0          0\n",
       "179939       1          1\n",
       "38242        0          1"
      ]
     },
     "execution_count": 7,
     "metadata": {},
     "output_type": "execute_result"
    }
   ],
   "source": [
    "# get predictions \n",
    "predictions = lr.predict(X_test)\n",
    "\n",
    "# compare results\n",
    "pd.DataFrame({'Actual': y_test, 'Predicted': predictions}) \\\n",
    "    .sample(10)"
   ]
  },
  {
   "cell_type": "code",
   "execution_count": 8,
   "id": "241d04ac-aabd-43e1-af89-c4ad38bf43c9",
   "metadata": {},
   "outputs": [
    {
     "data": {
      "text/html": [
       "<div>\n",
       "<style scoped>\n",
       "    .dataframe tbody tr th:only-of-type {\n",
       "        vertical-align: middle;\n",
       "    }\n",
       "\n",
       "    .dataframe tbody tr th {\n",
       "        vertical-align: top;\n",
       "    }\n",
       "\n",
       "    .dataframe thead th {\n",
       "        text-align: right;\n",
       "    }\n",
       "</style>\n",
       "<table border=\"1\" class=\"dataframe\">\n",
       "  <thead>\n",
       "    <tr style=\"text-align: right;\">\n",
       "      <th></th>\n",
       "      <th>Logistic Regression Model</th>\n",
       "      <th>Training Accuracy</th>\n",
       "      <th>Testing Accuracy</th>\n",
       "      <th>CV Accuracy</th>\n",
       "      <th>Precision</th>\n",
       "      <th>Recall</th>\n",
       "      <th>F1 Score</th>\n",
       "      <th>ROC AUC Score</th>\n",
       "    </tr>\n",
       "  </thead>\n",
       "  <tbody>\n",
       "    <tr>\n",
       "      <th>0</th>\n",
       "      <td>Without outliers, Normalized data</td>\n",
       "      <td>0.870572</td>\n",
       "      <td>0.872009</td>\n",
       "      <td>0.870524</td>\n",
       "      <td>0.861104</td>\n",
       "      <td>0.886931</td>\n",
       "      <td>0.873827</td>\n",
       "      <td>0.872017</td>\n",
       "    </tr>\n",
       "  </tbody>\n",
       "</table>\n",
       "</div>"
      ],
      "text/plain": [
       "           Logistic Regression Model  Training Accuracy  Testing Accuracy  \\\n",
       "0  Without outliers, Normalized data           0.870572          0.872009   \n",
       "\n",
       "   CV Accuracy  Precision    Recall  F1 Score  ROC AUC Score  \n",
       "0     0.870524   0.861104  0.886931  0.873827       0.872017  "
      ]
     },
     "execution_count": 8,
     "metadata": {},
     "output_type": "execute_result"
    }
   ],
   "source": [
    "results = pd.DataFrame([['Without outliers, Normalized data', train_accuracy, accuracy, cv_accuracy, precision, recall, f1, roc_auc]], \n",
    "                       columns = ['Logistic Regression Model', 'Training Accuracy', 'Testing Accuracy', 'CV Accuracy', 'Precision', 'Recall', 'F1 Score', 'ROC AUC Score'])\n",
    "\n",
    "summary = results\n",
    "summary\n"
   ]
  },
  {
   "cell_type": "markdown",
   "id": "e372e4ad-069f-4c5f-8e06-c8f379a221eb",
   "metadata": {},
   "source": [
    "<h3> Logistic Regression on df_outliers<h3>"
   ]
  },
  {
   "cell_type": "code",
   "execution_count": 9,
   "id": "8f5a1a8e-4466-48fc-82e6-7777ed05c3ab",
   "metadata": {},
   "outputs": [],
   "source": [
    "# split dataset to training and test dataset\n",
    "X_train, X_test, y_train, y_test = train_test_split(X_with_outliers, y_with_outliers, \n",
    "                                                          test_size = 0.2, random_state = 42)\n",
    "\n",
    "lr = LogisticRegression()\n",
    "lr.fit(X_train, y_train)\n",
    "lr_pred = lr.predict(X_test)"
   ]
  },
  {
   "cell_type": "code",
   "execution_count": 10,
   "id": "91cbc3e3-0cd3-42ce-b978-331bd707e45c",
   "metadata": {},
   "outputs": [
    {
     "name": "stdout",
     "output_type": "stream",
     "text": [
      "Confusion Matrix:\n"
     ]
    },
    {
     "data": {
      "image/png": "[encoded data removed]",
      "text/plain": [
       "<Figure size 400x300 with 2 Axes>"
      ]
     },
     "metadata": {},
     "output_type": "display_data"
    }
   ],
   "source": [
    "# Confusion Matrix\n",
    "print('Confusion Matrix:')\n",
    "cm = confusion_matrix(y_test, lr_pred)\n",
    "\n",
    "# Heatmap of Confusion Matrix\n",
    "class_labels = [\"Class 0\", \"Class 1\"]\n",
    "plt.figure(figsize=(4, 3))\n",
    "sns.heatmap(cm, annot=True, fmt=\"d\", cmap=\"Blues\", xticklabels=class_labels, yticklabels=class_labels)\n",
    "plt.xlabel(\"Predicted\")\n",
    "plt.ylabel(\"True\")\n",
    "plt.title(\"Confusion Matrix\")\n",
    "plt.show()"
   ]
  },
  {
   "cell_type": "code",
   "execution_count": 11,
   "id": "1cdc7764-71ad-4c45-8df5-ede58a7b7190",
   "metadata": {},
   "outputs": [
    {
     "name": "stdout",
     "output_type": "stream",
     "text": [
      "Accuracy:\n",
      "0.9643435980551054\n",
      "\n",
      "Precision:\n",
      "0.9708265802269044\n",
      "\n",
      "Recall:\n",
      "0.9584\n",
      "\n",
      "F1 score:\n",
      "0.964573268921095\n",
      "\n",
      "ROC AUC score:\n",
      "0.9644216748768474\n"
     ]
    }
   ],
   "source": [
    "# Performance Evaluation \n",
    "print('Accuracy:')\n",
    "accuracy = accuracy_score(y_test, lr_pred)\n",
    "print(accuracy)\n",
    "\n",
    "print('\\nPrecision:')\n",
    "precision = precision_score(y_test, lr_pred)\n",
    "print(precision)\n",
    "\n",
    "print('\\nRecall:')\n",
    "recall = recall_score(y_test, lr_pred)\n",
    "print(recall)\n",
    "\n",
    "print('\\nF1 score:')\n",
    "f1 = f1_score(y_test, lr_pred) \n",
    "print(f1)\n",
    "\n",
    "print('\\nROC AUC score:')\n",
    "roc_auc = roc_auc_score(y_test, lr_pred)\n",
    "print(roc_auc)"
   ]
  },
  {
   "cell_type": "code",
   "execution_count": 12,
   "id": "68f73561-fc73-4b3a-bd75-a8492aa36db9",
   "metadata": {},
   "outputs": [
    {
     "name": "stdout",
     "output_type": "stream",
     "text": [
      "Training Accuracy: 0.9716254560194568\n",
      "Cross Validation Accuracy: 0.971425482491907\n"
     ]
    }
   ],
   "source": [
    "train_accuracy = accuracy_score(y_train, lr.predict(X_train))\n",
    "print('Training Accuracy: ' + str(train_accuracy))\n",
    "\n",
    "# Cross Validation\n",
    "from sklearn import model_selection\n",
    "from sklearn.model_selection import cross_val_score\n",
    "\n",
    "kfold = model_selection.KFold(n_splits = 15, random_state = 42, shuffle = True)\n",
    "\n",
    "cv_lr = cross_val_score(estimator = lr, X = X_train, y = y_train, cv = kfold, scoring='accuracy')\n",
    "cv_accuracy = cv_lr.mean()\n",
    "print('Cross Validation Accuracy: ' + str(cv_accuracy))"
   ]
  },
  {
   "cell_type": "code",
   "execution_count": 13,
   "id": "240b9f64-eca6-451e-9a60-e9704ac19475",
   "metadata": {},
   "outputs": [
    {
     "data": {
      "text/html": [
       "<div>\n",
       "<style scoped>\n",
       "    .dataframe tbody tr th:only-of-type {\n",
       "        vertical-align: middle;\n",
       "    }\n",
       "\n",
       "    .dataframe tbody tr th {\n",
       "        vertical-align: top;\n",
       "    }\n",
       "\n",
       "    .dataframe thead th {\n",
       "        text-align: right;\n",
       "    }\n",
       "</style>\n",
       "<table border=\"1\" class=\"dataframe\">\n",
       "  <thead>\n",
       "    <tr style=\"text-align: right;\">\n",
       "      <th></th>\n",
       "      <th>Actual</th>\n",
       "      <th>Predicted</th>\n",
       "    </tr>\n",
       "  </thead>\n",
       "  <tbody>\n",
       "    <tr>\n",
       "      <th>1942</th>\n",
       "      <td>1</td>\n",
       "      <td>1</td>\n",
       "    </tr>\n",
       "    <tr>\n",
       "      <th>1223</th>\n",
       "      <td>0</td>\n",
       "      <td>0</td>\n",
       "    </tr>\n",
       "    <tr>\n",
       "      <th>3751</th>\n",
       "      <td>1</td>\n",
       "      <td>1</td>\n",
       "    </tr>\n",
       "    <tr>\n",
       "      <th>2107</th>\n",
       "      <td>1</td>\n",
       "      <td>1</td>\n",
       "    </tr>\n",
       "    <tr>\n",
       "      <th>1357</th>\n",
       "      <td>1</td>\n",
       "      <td>1</td>\n",
       "    </tr>\n",
       "    <tr>\n",
       "      <th>3544</th>\n",
       "      <td>1</td>\n",
       "      <td>1</td>\n",
       "    </tr>\n",
       "    <tr>\n",
       "      <th>2598</th>\n",
       "      <td>1</td>\n",
       "      <td>1</td>\n",
       "    </tr>\n",
       "    <tr>\n",
       "      <th>4239</th>\n",
       "      <td>0</td>\n",
       "      <td>0</td>\n",
       "    </tr>\n",
       "    <tr>\n",
       "      <th>748</th>\n",
       "      <td>0</td>\n",
       "      <td>0</td>\n",
       "    </tr>\n",
       "    <tr>\n",
       "      <th>3128</th>\n",
       "      <td>1</td>\n",
       "      <td>1</td>\n",
       "    </tr>\n",
       "  </tbody>\n",
       "</table>\n",
       "</div>"
      ],
      "text/plain": [
       "      Actual  Predicted\n",
       "1942       1          1\n",
       "1223       0          0\n",
       "3751       1          1\n",
       "2107       1          1\n",
       "1357       1          1\n",
       "3544       1          1\n",
       "2598       1          1\n",
       "4239       0          0\n",
       "748        0          0\n",
       "3128       1          1"
      ]
     },
     "execution_count": 13,
     "metadata": {},
     "output_type": "execute_result"
    }
   ],
   "source": [
    "# get predictions \n",
    "predictions = lr.predict(X_test)\n",
    "\n",
    "# compare results\n",
    "pd.DataFrame({'Actual': y_test, 'Predicted': predictions}) \\\n",
    "    .sample(10)"
   ]
  },
  {
   "cell_type": "code",
   "execution_count": 14,
   "id": "5fe798b1-238a-44ca-ba18-7eff828b92d0",
   "metadata": {},
   "outputs": [
    {
     "data": {
      "text/html": [
       "<div>\n",
       "<style scoped>\n",
       "    .dataframe tbody tr th:only-of-type {\n",
       "        vertical-align: middle;\n",
       "    }\n",
       "\n",
       "    .dataframe tbody tr th {\n",
       "        vertical-align: top;\n",
       "    }\n",
       "\n",
       "    .dataframe thead th {\n",
       "        text-align: right;\n",
       "    }\n",
       "</style>\n",
       "<table border=\"1\" class=\"dataframe\">\n",
       "  <thead>\n",
       "    <tr style=\"text-align: right;\">\n",
       "      <th></th>\n",
       "      <th>Logistic Regression Model</th>\n",
       "      <th>Training Accuracy</th>\n",
       "      <th>Testing Accuracy</th>\n",
       "      <th>CV Accuracy</th>\n",
       "      <th>Precision</th>\n",
       "      <th>Recall</th>\n",
       "      <th>F1 Score</th>\n",
       "      <th>ROC AUC Score</th>\n",
       "    </tr>\n",
       "  </thead>\n",
       "  <tbody>\n",
       "    <tr>\n",
       "      <th>0</th>\n",
       "      <td>Without outliers, Normalized data</td>\n",
       "      <td>0.870572</td>\n",
       "      <td>0.872009</td>\n",
       "      <td>0.870524</td>\n",
       "      <td>0.861104</td>\n",
       "      <td>0.886931</td>\n",
       "      <td>0.873827</td>\n",
       "      <td>0.872017</td>\n",
       "    </tr>\n",
       "    <tr>\n",
       "      <th>1</th>\n",
       "      <td>Outliers only, Normalized data</td>\n",
       "      <td>0.971625</td>\n",
       "      <td>0.964344</td>\n",
       "      <td>0.971425</td>\n",
       "      <td>0.970827</td>\n",
       "      <td>0.958400</td>\n",
       "      <td>0.964573</td>\n",
       "      <td>0.964422</td>\n",
       "    </tr>\n",
       "  </tbody>\n",
       "</table>\n",
       "</div>"
      ],
      "text/plain": [
       "           Logistic Regression Model  Training Accuracy  Testing Accuracy  \\\n",
       "0  Without outliers, Normalized data           0.870572          0.872009   \n",
       "1     Outliers only, Normalized data           0.971625          0.964344   \n",
       "\n",
       "   CV Accuracy  Precision    Recall  F1 Score  ROC AUC Score  \n",
       "0     0.870524   0.861104  0.886931  0.873827       0.872017  \n",
       "1     0.971425   0.970827  0.958400  0.964573       0.964422  "
      ]
     },
     "execution_count": 14,
     "metadata": {},
     "output_type": "execute_result"
    }
   ],
   "source": [
    "results = pd.DataFrame([['Outliers only, Normalized data', train_accuracy, accuracy, cv_accuracy, precision, recall, f1, roc_auc]], \n",
    "                       columns = ['Logistic Regression Model', 'Training Accuracy', 'Testing Accuracy', 'CV Accuracy', 'Precision', 'Recall', 'F1 Score', 'ROC AUC Score'])\n",
    "\n",
    "summary = pd.concat([summary, results], ignore_index=True)\n",
    "summary"
   ]
  },
  {
   "cell_type": "markdown",
   "id": "6d52e5eb-4870-4e36-9085-7de345e2e6e2",
   "metadata": {},
   "source": [
    "<h3> Logistic Regression on df_no_outliers_no_normalization<h3>"
   ]
  },
  {
   "cell_type": "code",
   "execution_count": 15,
   "id": "71ce420c-0809-4c71-a16a-600f6c7d1e4d",
   "metadata": {},
   "outputs": [],
   "source": [
    "# split dataset to training and test dataset\n",
    "X_train, X_test, y_train, y_test = train_test_split(X_no_outliers_no_normalization, y_no_outliers_no_normalization, \n",
    "                                                          test_size = 0.2, random_state = 42)\n",
    "\n",
    "lr = LogisticRegression(solver='lbfgs', max_iter=1000)\n",
    "lr.fit(X_train, y_train)\n",
    "lr_pred = lr.predict(X_test)"
   ]
  },
  {
   "cell_type": "code",
   "execution_count": 16,
   "id": "f588aa68-cf00-47af-a850-7312b592b1e1",
   "metadata": {},
   "outputs": [
    {
     "name": "stdout",
     "output_type": "stream",
     "text": [
      "Confusion Matrix:\n"
     ]
    },
    {
     "data": {
      "image/png": "[encoded data removed]",
      "text/plain": [
       "<Figure size 400x300 with 2 Axes>"
      ]
     },
     "metadata": {},
     "output_type": "display_data"
    }
   ],
   "source": [
    "# Confusion Matrix\n",
    "print('Confusion Matrix:')\n",
    "cm = confusion_matrix(y_test, lr_pred)\n",
    "\n",
    "# Heatmap of Confusion Matrix\n",
    "class_labels = [\"Class 0\", \"Class 1\"]\n",
    "plt.figure(figsize=(4, 3))\n",
    "sns.heatmap(cm, annot=True, fmt=\"d\", cmap=\"Blues\", xticklabels=class_labels, yticklabels=class_labels)\n",
    "plt.xlabel(\"Predicted\")\n",
    "plt.ylabel(\"True\")\n",
    "plt.title(\"Confusion Matrix\")\n",
    "plt.show()"
   ]
  },
  {
   "cell_type": "code",
   "execution_count": 17,
   "id": "da80cf14-ac1f-47ab-b7da-20f6cbecc663",
   "metadata": {},
   "outputs": [
    {
     "name": "stdout",
     "output_type": "stream",
     "text": [
      "Accuracy:\n",
      "0.8720914184769107\n",
      "\n",
      "Precision:\n",
      "0.8612422226989916\n",
      "\n",
      "Recall:\n",
      "0.8869310649580203\n",
      "\n",
      "F1 score:\n",
      "0.873897899205399\n",
      "\n",
      "ROC AUC score:\n",
      "0.8721000152376309\n"
     ]
    }
   ],
   "source": [
    "# Performance Evaluation \n",
    "print('Accuracy:')\n",
    "accuracy = accuracy_score(y_test, lr_pred)\n",
    "print(accuracy)\n",
    "\n",
    "print('\\nPrecision:')\n",
    "precision = precision_score(y_test, lr_pred)\n",
    "print(precision)\n",
    "\n",
    "print('\\nRecall:')\n",
    "recall = recall_score(y_test, lr_pred)\n",
    "print(recall)\n",
    "\n",
    "print('\\nF1 score:')\n",
    "f1 = f1_score(y_test, lr_pred) \n",
    "print(f1)\n",
    "\n",
    "print('\\nROC AUC score:')\n",
    "roc_auc = roc_auc_score(y_test, lr_pred)\n",
    "print(roc_auc)"
   ]
  },
  {
   "cell_type": "code",
   "execution_count": 18,
   "id": "b85321b6-a4a7-48e8-b741-53f624a53344",
   "metadata": {},
   "outputs": [
    {
     "name": "stdout",
     "output_type": "stream",
     "text": [
      "Training Accuracy: 0.870579305109892\n",
      "Cross Validation Accuracy: 0.8705102991408757\n"
     ]
    }
   ],
   "source": [
    "train_accuracy = accuracy_score(y_train, lr.predict(X_train))\n",
    "print('Training Accuracy: ' + str(train_accuracy))\n",
    "\n",
    "# Cross Validation\n",
    "from sklearn import model_selection\n",
    "from sklearn.model_selection import cross_val_score\n",
    "\n",
    "kfold = model_selection.KFold(n_splits = 15, random_state = 42, shuffle = True)\n",
    "\n",
    "cv_lr = cross_val_score(estimator = lr, X = X_train, y = y_train, cv = kfold, scoring='accuracy')\n",
    "cv_accuracy = cv_lr.mean()\n",
    "print('Cross Validation Accuracy: ' + str(cv_accuracy))"
   ]
  },
  {
   "cell_type": "code",
   "execution_count": 19,
   "id": "8ee124fd-96a7-488f-be7d-bcbb18ae56dd",
   "metadata": {},
   "outputs": [
    {
     "data": {
      "text/html": [
       "<div>\n",
       "<style scoped>\n",
       "    .dataframe tbody tr th:only-of-type {\n",
       "        vertical-align: middle;\n",
       "    }\n",
       "\n",
       "    .dataframe tbody tr th {\n",
       "        vertical-align: top;\n",
       "    }\n",
       "\n",
       "    .dataframe thead th {\n",
       "        text-align: right;\n",
       "    }\n",
       "</style>\n",
       "<table border=\"1\" class=\"dataframe\">\n",
       "  <thead>\n",
       "    <tr style=\"text-align: right;\">\n",
       "      <th></th>\n",
       "      <th>Actual</th>\n",
       "      <th>Predicted</th>\n",
       "    </tr>\n",
       "  </thead>\n",
       "  <tbody>\n",
       "    <tr>\n",
       "      <th>151556</th>\n",
       "      <td>1</td>\n",
       "      <td>1</td>\n",
       "    </tr>\n",
       "    <tr>\n",
       "      <th>158406</th>\n",
       "      <td>1</td>\n",
       "      <td>1</td>\n",
       "    </tr>\n",
       "    <tr>\n",
       "      <th>69460</th>\n",
       "      <td>0</td>\n",
       "      <td>1</td>\n",
       "    </tr>\n",
       "    <tr>\n",
       "      <th>13102</th>\n",
       "      <td>0</td>\n",
       "      <td>0</td>\n",
       "    </tr>\n",
       "    <tr>\n",
       "      <th>61219</th>\n",
       "      <td>0</td>\n",
       "      <td>0</td>\n",
       "    </tr>\n",
       "    <tr>\n",
       "      <th>173890</th>\n",
       "      <td>1</td>\n",
       "      <td>1</td>\n",
       "    </tr>\n",
       "    <tr>\n",
       "      <th>78774</th>\n",
       "      <td>0</td>\n",
       "      <td>0</td>\n",
       "    </tr>\n",
       "    <tr>\n",
       "      <th>123094</th>\n",
       "      <td>1</td>\n",
       "      <td>1</td>\n",
       "    </tr>\n",
       "    <tr>\n",
       "      <th>52677</th>\n",
       "      <td>0</td>\n",
       "      <td>1</td>\n",
       "    </tr>\n",
       "    <tr>\n",
       "      <th>166643</th>\n",
       "      <td>1</td>\n",
       "      <td>0</td>\n",
       "    </tr>\n",
       "  </tbody>\n",
       "</table>\n",
       "</div>"
      ],
      "text/plain": [
       "        Actual  Predicted\n",
       "151556       1          1\n",
       "158406       1          1\n",
       "69460        0          1\n",
       "13102        0          0\n",
       "61219        0          0\n",
       "173890       1          1\n",
       "78774        0          0\n",
       "123094       1          1\n",
       "52677        0          1\n",
       "166643       1          0"
      ]
     },
     "execution_count": 19,
     "metadata": {},
     "output_type": "execute_result"
    }
   ],
   "source": [
    "# get predictions \n",
    "predictions = lr.predict(X_test)\n",
    "\n",
    "# compare results\n",
    "pd.DataFrame({'Actual': y_test, 'Predicted': predictions}) \\\n",
    "    .sample(10)"
   ]
  },
  {
   "cell_type": "code",
   "execution_count": 20,
   "id": "3c8e8041-d21f-447a-b9e3-ae649caaf22a",
   "metadata": {},
   "outputs": [
    {
     "data": {
      "text/html": [
       "<div>\n",
       "<style scoped>\n",
       "    .dataframe tbody tr th:only-of-type {\n",
       "        vertical-align: middle;\n",
       "    }\n",
       "\n",
       "    .dataframe tbody tr th {\n",
       "        vertical-align: top;\n",
       "    }\n",
       "\n",
       "    .dataframe thead th {\n",
       "        text-align: right;\n",
       "    }\n",
       "</style>\n",
       "<table border=\"1\" class=\"dataframe\">\n",
       "  <thead>\n",
       "    <tr style=\"text-align: right;\">\n",
       "      <th></th>\n",
       "      <th>Logistic Regression Model</th>\n",
       "      <th>Training Accuracy</th>\n",
       "      <th>Testing Accuracy</th>\n",
       "      <th>CV Accuracy</th>\n",
       "      <th>Precision</th>\n",
       "      <th>Recall</th>\n",
       "      <th>F1 Score</th>\n",
       "      <th>ROC AUC Score</th>\n",
       "    </tr>\n",
       "  </thead>\n",
       "  <tbody>\n",
       "    <tr>\n",
       "      <th>0</th>\n",
       "      <td>Without outliers, Normalized data</td>\n",
       "      <td>0.870572</td>\n",
       "      <td>0.872009</td>\n",
       "      <td>0.870524</td>\n",
       "      <td>0.861104</td>\n",
       "      <td>0.886931</td>\n",
       "      <td>0.873827</td>\n",
       "      <td>0.872017</td>\n",
       "    </tr>\n",
       "    <tr>\n",
       "      <th>1</th>\n",
       "      <td>Outliers only, Normalized data</td>\n",
       "      <td>0.971625</td>\n",
       "      <td>0.964344</td>\n",
       "      <td>0.971425</td>\n",
       "      <td>0.970827</td>\n",
       "      <td>0.958400</td>\n",
       "      <td>0.964573</td>\n",
       "      <td>0.964422</td>\n",
       "    </tr>\n",
       "    <tr>\n",
       "      <th>2</th>\n",
       "      <td>Without outliers, Non-normalized data</td>\n",
       "      <td>0.870579</td>\n",
       "      <td>0.872091</td>\n",
       "      <td>0.870510</td>\n",
       "      <td>0.861242</td>\n",
       "      <td>0.886931</td>\n",
       "      <td>0.873898</td>\n",
       "      <td>0.872100</td>\n",
       "    </tr>\n",
       "  </tbody>\n",
       "</table>\n",
       "</div>"
      ],
      "text/plain": [
       "               Logistic Regression Model  Training Accuracy  Testing Accuracy  \\\n",
       "0      Without outliers, Normalized data           0.870572          0.872009   \n",
       "1         Outliers only, Normalized data           0.971625          0.964344   \n",
       "2  Without outliers, Non-normalized data           0.870579          0.872091   \n",
       "\n",
       "   CV Accuracy  Precision    Recall  F1 Score  ROC AUC Score  \n",
       "0     0.870524   0.861104  0.886931  0.873827       0.872017  \n",
       "1     0.971425   0.970827  0.958400  0.964573       0.964422  \n",
       "2     0.870510   0.861242  0.886931  0.873898       0.872100  "
      ]
     },
     "execution_count": 20,
     "metadata": {},
     "output_type": "execute_result"
    }
   ],
   "source": [
    "results = pd.DataFrame([['Without outliers, Non-normalized data', train_accuracy, accuracy, cv_accuracy, precision, recall, f1, roc_auc]], \n",
    "                       columns = ['Logistic Regression Model', 'Training Accuracy', 'Testing Accuracy', 'CV Accuracy', 'Precision', 'Recall', 'F1 Score', 'ROC AUC Score'])\n",
    "\n",
    "summary = pd.concat([summary, results], ignore_index=True)\n",
    "summary"
   ]
  },
  {
   "cell_type": "markdown",
   "id": "ff862508-587a-446f-8e0c-15c62f23dbee",
   "metadata": {},
   "source": [
    "<h3> Logistic Regression on df_outliers_no_normalization<h3>"
   ]
  },
  {
   "cell_type": "code",
   "execution_count": 21,
   "id": "94f04d14-91af-419a-96fc-5584970b7b23",
   "metadata": {},
   "outputs": [],
   "source": [
    "# split dataset to training and test dataset\n",
    "X_train, X_test, y_train, y_test = train_test_split(X_outliers_no_normalization, y_outliers_no_normalization, \n",
    "                                                          test_size = 0.2, random_state = 42)\n",
    "\n",
    "lr = LogisticRegression(solver='lbfgs', max_iter=1000)\n",
    "lr.fit(X_train, y_train)\n",
    "lr_pred = lr.predict(X_test)"
   ]
  },
  {
   "cell_type": "code",
   "execution_count": 22,
   "id": "09ff17e0-eb0a-4965-b51b-18b22721d527",
   "metadata": {},
   "outputs": [
    {
     "name": "stdout",
     "output_type": "stream",
     "text": [
      "Confusion Matrix:\n"
     ]
    },
    {
     "data": {
      "image/png": "[encoded data removed]",
      "text/plain": [
       "<Figure size 400x300 with 2 Axes>"
      ]
     },
     "metadata": {},
     "output_type": "display_data"
    }
   ],
   "source": [
    "# Confusion Matrix\n",
    "print('Confusion Matrix:')\n",
    "cm = confusion_matrix(y_test, lr_pred)\n",
    "\n",
    "# Heatmap of Confusion Matrix\n",
    "class_labels = [\"Class 0\", \"Class 1\"]\n",
    "plt.figure(figsize=(4, 3))\n",
    "sns.heatmap(cm, annot=True, fmt=\"d\", cmap=\"Blues\", xticklabels=class_labels, yticklabels=class_labels)\n",
    "plt.xlabel(\"Predicted\")\n",
    "plt.ylabel(\"True\")\n",
    "plt.title(\"Confusion Matrix\")\n",
    "plt.show()"
   ]
  },
  {
   "cell_type": "code",
   "execution_count": 23,
   "id": "e8ce5ee2-bbb3-43c9-9825-0e2cdf6af369",
   "metadata": {},
   "outputs": [
    {
     "name": "stdout",
     "output_type": "stream",
     "text": [
      "Accuracy:\n",
      "0.9651539708265803\n",
      "\n",
      "Precision:\n",
      "0.970873786407767\n",
      "\n",
      "Recall:\n",
      "0.96\n",
      "\n",
      "F1 score:\n",
      "0.9654062751407885\n",
      "\n",
      "ROC AUC score:\n",
      "0.9652216748768473\n"
     ]
    }
   ],
   "source": [
    "# Performance Evaluation \n",
    "print('Accuracy:')\n",
    "accuracy = accuracy_score(y_test, lr_pred)\n",
    "print(accuracy)\n",
    "\n",
    "print('\\nPrecision:')\n",
    "precision = precision_score(y_test, lr_pred)\n",
    "print(precision)\n",
    "\n",
    "print('\\nRecall:')\n",
    "recall = recall_score(y_test, lr_pred)\n",
    "print(recall)\n",
    "\n",
    "print('\\nF1 score:')\n",
    "f1 = f1_score(y_test, lr_pred) \n",
    "print(f1)\n",
    "\n",
    "print('\\nROC AUC score:')\n",
    "roc_auc = roc_auc_score(y_test, lr_pred)\n",
    "print(roc_auc)"
   ]
  },
  {
   "cell_type": "code",
   "execution_count": 24,
   "id": "db8482b7-dbd5-4f4a-91d4-8f50e074a884",
   "metadata": {},
   "outputs": [
    {
     "name": "stdout",
     "output_type": "stream",
     "text": [
      "Training Accuracy: 0.9712201053911633\n",
      "Cross Validation Accuracy: 0.9710202140015322\n"
     ]
    }
   ],
   "source": [
    "train_accuracy = accuracy_score(y_train, lr.predict(X_train))\n",
    "print('Training Accuracy: ' + str(train_accuracy))\n",
    "\n",
    "# Cross Validation\n",
    "from sklearn import model_selection\n",
    "from sklearn.model_selection import cross_val_score\n",
    "\n",
    "kfold = model_selection.KFold(n_splits = 15, random_state = 42, shuffle = True)\n",
    "\n",
    "cv_lr = cross_val_score(estimator = lr, X = X_train, y = y_train, cv = kfold, scoring='accuracy')\n",
    "cv_accuracy = cv_lr.mean()\n",
    "print('Cross Validation Accuracy: ' + str(cv_accuracy))"
   ]
  },
  {
   "cell_type": "code",
   "execution_count": 25,
   "id": "08fc4f80-409c-4769-9a35-abc3993a1277",
   "metadata": {},
   "outputs": [
    {
     "data": {
      "text/html": [
       "<div>\n",
       "<style scoped>\n",
       "    .dataframe tbody tr th:only-of-type {\n",
       "        vertical-align: middle;\n",
       "    }\n",
       "\n",
       "    .dataframe tbody tr th {\n",
       "        vertical-align: top;\n",
       "    }\n",
       "\n",
       "    .dataframe thead th {\n",
       "        text-align: right;\n",
       "    }\n",
       "</style>\n",
       "<table border=\"1\" class=\"dataframe\">\n",
       "  <thead>\n",
       "    <tr style=\"text-align: right;\">\n",
       "      <th></th>\n",
       "      <th>Actual</th>\n",
       "      <th>Predicted</th>\n",
       "    </tr>\n",
       "  </thead>\n",
       "  <tbody>\n",
       "    <tr>\n",
       "      <th>5129</th>\n",
       "      <td>0</td>\n",
       "      <td>0</td>\n",
       "    </tr>\n",
       "    <tr>\n",
       "      <th>1825</th>\n",
       "      <td>1</td>\n",
       "      <td>1</td>\n",
       "    </tr>\n",
       "    <tr>\n",
       "      <th>5789</th>\n",
       "      <td>0</td>\n",
       "      <td>0</td>\n",
       "    </tr>\n",
       "    <tr>\n",
       "      <th>907</th>\n",
       "      <td>0</td>\n",
       "      <td>0</td>\n",
       "    </tr>\n",
       "    <tr>\n",
       "      <th>4239</th>\n",
       "      <td>0</td>\n",
       "      <td>0</td>\n",
       "    </tr>\n",
       "    <tr>\n",
       "      <th>4498</th>\n",
       "      <td>0</td>\n",
       "      <td>0</td>\n",
       "    </tr>\n",
       "    <tr>\n",
       "      <th>611</th>\n",
       "      <td>0</td>\n",
       "      <td>0</td>\n",
       "    </tr>\n",
       "    <tr>\n",
       "      <th>5148</th>\n",
       "      <td>0</td>\n",
       "      <td>0</td>\n",
       "    </tr>\n",
       "    <tr>\n",
       "      <th>2688</th>\n",
       "      <td>1</td>\n",
       "      <td>1</td>\n",
       "    </tr>\n",
       "    <tr>\n",
       "      <th>960</th>\n",
       "      <td>0</td>\n",
       "      <td>0</td>\n",
       "    </tr>\n",
       "  </tbody>\n",
       "</table>\n",
       "</div>"
      ],
      "text/plain": [
       "      Actual  Predicted\n",
       "5129       0          0\n",
       "1825       1          1\n",
       "5789       0          0\n",
       "907        0          0\n",
       "4239       0          0\n",
       "4498       0          0\n",
       "611        0          0\n",
       "5148       0          0\n",
       "2688       1          1\n",
       "960        0          0"
      ]
     },
     "execution_count": 25,
     "metadata": {},
     "output_type": "execute_result"
    }
   ],
   "source": [
    "# get predictions \n",
    "predictions = lr.predict(X_test)\n",
    "\n",
    "# compare results\n",
    "pd.DataFrame({'Actual': y_test, 'Predicted': predictions}) \\\n",
    "    .sample(10)"
   ]
  },
  {
   "cell_type": "code",
   "execution_count": 26,
   "id": "863dd02c-26c7-4216-9c62-87146f518ab9",
   "metadata": {},
   "outputs": [
    {
     "data": {
      "text/html": [
       "<div>\n",
       "<style scoped>\n",
       "    .dataframe tbody tr th:only-of-type {\n",
       "        vertical-align: middle;\n",
       "    }\n",
       "\n",
       "    .dataframe tbody tr th {\n",
       "        vertical-align: top;\n",
       "    }\n",
       "\n",
       "    .dataframe thead th {\n",
       "        text-align: right;\n",
       "    }\n",
       "</style>\n",
       "<table border=\"1\" class=\"dataframe\">\n",
       "  <thead>\n",
       "    <tr style=\"text-align: right;\">\n",
       "      <th></th>\n",
       "      <th>Logistic Regression Model</th>\n",
       "      <th>Training Accuracy</th>\n",
       "      <th>Testing Accuracy</th>\n",
       "      <th>CV Accuracy</th>\n",
       "      <th>Precision</th>\n",
       "      <th>Recall</th>\n",
       "      <th>F1 Score</th>\n",
       "      <th>ROC AUC Score</th>\n",
       "    </tr>\n",
       "  </thead>\n",
       "  <tbody>\n",
       "    <tr>\n",
       "      <th>0</th>\n",
       "      <td>Without outliers, Normalized data</td>\n",
       "      <td>0.870572</td>\n",
       "      <td>0.872009</td>\n",
       "      <td>0.870524</td>\n",
       "      <td>0.861104</td>\n",
       "      <td>0.886931</td>\n",
       "      <td>0.873827</td>\n",
       "      <td>0.872017</td>\n",
       "    </tr>\n",
       "    <tr>\n",
       "      <th>1</th>\n",
       "      <td>Outliers only, Normalized data</td>\n",
       "      <td>0.971625</td>\n",
       "      <td>0.964344</td>\n",
       "      <td>0.971425</td>\n",
       "      <td>0.970827</td>\n",
       "      <td>0.958400</td>\n",
       "      <td>0.964573</td>\n",
       "      <td>0.964422</td>\n",
       "    </tr>\n",
       "    <tr>\n",
       "      <th>2</th>\n",
       "      <td>Without outliers, Non-normalized data</td>\n",
       "      <td>0.870579</td>\n",
       "      <td>0.872091</td>\n",
       "      <td>0.870510</td>\n",
       "      <td>0.861242</td>\n",
       "      <td>0.886931</td>\n",
       "      <td>0.873898</td>\n",
       "      <td>0.872100</td>\n",
       "    </tr>\n",
       "    <tr>\n",
       "      <th>3</th>\n",
       "      <td>Outliers only, Non-normalized data</td>\n",
       "      <td>0.971220</td>\n",
       "      <td>0.965154</td>\n",
       "      <td>0.971020</td>\n",
       "      <td>0.970874</td>\n",
       "      <td>0.960000</td>\n",
       "      <td>0.965406</td>\n",
       "      <td>0.965222</td>\n",
       "    </tr>\n",
       "  </tbody>\n",
       "</table>\n",
       "</div>"
      ],
      "text/plain": [
       "               Logistic Regression Model  Training Accuracy  Testing Accuracy  \\\n",
       "0      Without outliers, Normalized data           0.870572          0.872009   \n",
       "1         Outliers only, Normalized data           0.971625          0.964344   \n",
       "2  Without outliers, Non-normalized data           0.870579          0.872091   \n",
       "3     Outliers only, Non-normalized data           0.971220          0.965154   \n",
       "\n",
       "   CV Accuracy  Precision    Recall  F1 Score  ROC AUC Score  \n",
       "0     0.870524   0.861104  0.886931  0.873827       0.872017  \n",
       "1     0.971425   0.970827  0.958400  0.964573       0.964422  \n",
       "2     0.870510   0.861242  0.886931  0.873898       0.872100  \n",
       "3     0.971020   0.970874  0.960000  0.965406       0.965222  "
      ]
     },
     "execution_count": 26,
     "metadata": {},
     "output_type": "execute_result"
    }
   ],
   "source": [
    "results = pd.DataFrame([['Outliers only, Non-normalized data', train_accuracy, accuracy, cv_accuracy, precision, recall, f1, roc_auc]], \n",
    "                       columns = ['Logistic Regression Model', 'Training Accuracy', 'Testing Accuracy', 'CV Accuracy', 'Precision', 'Recall', 'F1 Score', 'ROC AUC Score'])\n",
    "\n",
    "summary = pd.concat([summary, results], ignore_index=True)\n",
    "summary"
   ]
  },
  {
   "cell_type": "code",
   "execution_count": null,
   "id": "8426e09b-aa03-4b7c-8b53-3413bda5a583",
   "metadata": {},
   "outputs": [],
   "source": []
  },
  {
   "cell_type": "code",
   "execution_count": null,
   "id": "de8faf1f-7e8d-4150-82dc-a294a5e2ff02",
   "metadata": {},
   "outputs": [],
   "source": [
    "\n"
   ]
  }
 ],
 "metadata": {
  "kernelspec": {
   "display_name": "Python 3 (ipykernel)",
   "language": "python",
   "name": "python3"
  },
  "language_info": {
   "codemirror_mode": {
    "name": "ipython",
    "version": 3
   },
   "file_extension": ".py",
   "mimetype": "text/x-python",
   "name": "python",
   "nbconvert_exporter": "python",
   "pygments_lexer": "ipython3",
   "version": "3.11.7"
  }
 },
 "nbformat": 4,
 "nbformat_minor": 5
}
