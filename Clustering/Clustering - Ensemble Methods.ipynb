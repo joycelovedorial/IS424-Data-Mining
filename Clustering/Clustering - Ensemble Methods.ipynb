{
 "cells": [
  {
   "cell_type": "markdown",
   "id": "29225dfe",
   "metadata": {},
   "source": [
    "# Clustering - Ensemble Methods"
   ]
  },
  {
   "cell_type": "markdown",
   "id": "790dff26",
   "metadata": {},
   "source": [
    "Using the new_df_without_outliers_copy_smote_resampled.xlsx\n",
    "- Train an Ensemble Model: Train an ensemble model (e.g., Random Forest or Gradient Boosting) to predict whether a person has diabetes or not based on the features.\n",
    "- Get Predicted Labels: Use the trained ensemble model to predict the labels (diabetes or non-diabetes) for each data point in your dataset.\n",
    "- Perform Clustering: Apply clustering algorithms (e.g., K-means, hierarchical clustering) on the features along with the predicted labels.\n",
    "- Evaluate Clustering: Evaluate the clustering results to see if there are meaningful clusters corresponding to the presence or absence of diabetes."
   ]
  },
  {
   "cell_type": "code",
   "execution_count": 7,
   "id": "45b7341a",
   "metadata": {},
   "outputs": [],
   "source": [
    "# Import packages\n",
    "from sklearn.ensemble import GradientBoostingClassifier\n",
    "from sklearn.cluster import KMeans\n",
    "import numpy as np\n",
    "import pandas as pd\n",
    "\n",
    "from sklearn.metrics import silhouette_score"
   ]
  },
  {
   "cell_type": "code",
   "execution_count": 5,
   "id": "15828d8f",
   "metadata": {},
   "outputs": [
    {
     "data": {
      "text/html": [
       "<div>\n",
       "<style scoped>\n",
       "    .dataframe tbody tr th:only-of-type {\n",
       "        vertical-align: middle;\n",
       "    }\n",
       "\n",
       "    .dataframe tbody tr th {\n",
       "        vertical-align: top;\n",
       "    }\n",
       "\n",
       "    .dataframe thead th {\n",
       "        text-align: right;\n",
       "    }\n",
       "</style>\n",
       "<table border=\"1\" class=\"dataframe\">\n",
       "  <thead>\n",
       "    <tr style=\"text-align: right;\">\n",
       "      <th></th>\n",
       "      <th>age</th>\n",
       "      <th>hypertension</th>\n",
       "      <th>heart_disease</th>\n",
       "      <th>bmi</th>\n",
       "      <th>HbA1c_level</th>\n",
       "      <th>blood_glucose_level</th>\n",
       "      <th>smoking_history_encoded</th>\n",
       "      <th>gender_encoded</th>\n",
       "      <th>diabetes</th>\n",
       "    </tr>\n",
       "  </thead>\n",
       "  <tbody>\n",
       "    <tr>\n",
       "      <th>128745</th>\n",
       "      <td>1.229840</td>\n",
       "      <td>0</td>\n",
       "      <td>0</td>\n",
       "      <td>-0.137284</td>\n",
       "      <td>0.414153</td>\n",
       "      <td>1.014928</td>\n",
       "      <td>0.263730</td>\n",
       "      <td>-0.974068</td>\n",
       "      <td>1</td>\n",
       "    </tr>\n",
       "    <tr>\n",
       "      <th>11667</th>\n",
       "      <td>-2.065704</td>\n",
       "      <td>0</td>\n",
       "      <td>0</td>\n",
       "      <td>-1.945771</td>\n",
       "      <td>0.529090</td>\n",
       "      <td>-0.628168</td>\n",
       "      <td>-1.579747</td>\n",
       "      <td>1.211318</td>\n",
       "      <td>0</td>\n",
       "    </tr>\n",
       "    <tr>\n",
       "      <th>11098</th>\n",
       "      <td>0.057253</td>\n",
       "      <td>0</td>\n",
       "      <td>0</td>\n",
       "      <td>0.016970</td>\n",
       "      <td>0.128449</td>\n",
       "      <td>-1.427512</td>\n",
       "      <td>0.263730</td>\n",
       "      <td>1.211318</td>\n",
       "      <td>0</td>\n",
       "    </tr>\n",
       "    <tr>\n",
       "      <th>7227</th>\n",
       "      <td>-0.404259</td>\n",
       "      <td>0</td>\n",
       "      <td>0</td>\n",
       "      <td>-0.241118</td>\n",
       "      <td>-1.173634</td>\n",
       "      <td>-1.427512</td>\n",
       "      <td>0.331039</td>\n",
       "      <td>-0.974068</td>\n",
       "      <td>0</td>\n",
       "    </tr>\n",
       "    <tr>\n",
       "      <th>18113</th>\n",
       "      <td>1.257185</td>\n",
       "      <td>1</td>\n",
       "      <td>0</td>\n",
       "      <td>-0.241118</td>\n",
       "      <td>0.228610</td>\n",
       "      <td>-1.427512</td>\n",
       "      <td>1.636068</td>\n",
       "      <td>1.211318</td>\n",
       "      <td>0</td>\n",
       "    </tr>\n",
       "  </tbody>\n",
       "</table>\n",
       "</div>"
      ],
      "text/plain": [
       "             age  hypertension  heart_disease       bmi  HbA1c_level  \\\n",
       "128745  1.229840             0              0 -0.137284     0.414153   \n",
       "11667  -2.065704             0              0 -1.945771     0.529090   \n",
       "11098   0.057253             0              0  0.016970     0.128449   \n",
       "7227   -0.404259             0              0 -0.241118    -1.173634   \n",
       "18113   1.257185             1              0 -0.241118     0.228610   \n",
       "\n",
       "        blood_glucose_level  smoking_history_encoded  gender_encoded  diabetes  \n",
       "128745             1.014928                 0.263730       -0.974068         1  \n",
       "11667             -0.628168                -1.579747        1.211318         0  \n",
       "11098             -1.427512                 0.263730        1.211318         0  \n",
       "7227              -1.427512                 0.331039       -0.974068         0  \n",
       "18113             -1.427512                 1.636068        1.211318         0  "
      ]
     },
     "execution_count": 5,
     "metadata": {},
     "output_type": "execute_result"
    }
   ],
   "source": [
    "# We will be using the new_df_without_outliers_copy_smote_resampled.xlsx\n",
    "df = pd.read_excel('new_df_without_outliers_copy_smote_resampled.xlsx')\n",
    "df.sample(5)"
   ]
  },
  {
   "cell_type": "code",
   "execution_count": 6,
   "id": "2bfb8173",
   "metadata": {},
   "outputs": [
    {
     "name": "stdout",
     "output_type": "stream",
     "text": [
      "        Cluster  Actual Diabetes\n",
      "0             1                0\n",
      "1             1                0\n",
      "2             1                0\n",
      "3             1                0\n",
      "4             1                0\n",
      "...         ...              ...\n",
      "181139        0                1\n",
      "181140        0                1\n",
      "181141        0                1\n",
      "181142        1                1\n",
      "181143        0                1\n",
      "\n",
      "[181144 rows x 2 columns]\n"
     ]
    }
   ],
   "source": [
    "# Assuming 'X' contains your features and 'y' contains the target variable (diabetes or not)\n",
    "# Assuming you have loaded your dataset into X and y\n",
    "X = df.drop('diabetes', axis=1)\n",
    "y = df['diabetes']\n",
    "\n",
    "# Train a Gradient Boosting Classifier\n",
    "clf = GradientBoostingClassifier(n_estimators=100, random_state=42)\n",
    "clf.fit(X, y)\n",
    "\n",
    "# Predict probabilities of each data point belonging to each class\n",
    "probabilities = clf.predict_proba(X)\n",
    "\n",
    "# Perform clustering on the predicted probabilities\n",
    "kmeans = KMeans(n_clusters=2, random_state=42)\n",
    "kmeans.fit(probabilities)\n",
    "\n",
    "# Get cluster labels\n",
    "cluster_labels = kmeans.labels_\n",
    "\n",
    "# Analyze clustering results\n",
    "cluster_analysis = pd.DataFrame({'Cluster': cluster_labels, 'Actual Diabetes': y})\n",
    "print(cluster_analysis)"
   ]
  },
  {
   "cell_type": "code",
   "execution_count": 8,
   "id": "c255611e",
   "metadata": {},
   "outputs": [
    {
     "name": "stdout",
     "output_type": "stream",
     "text": [
      "Silhouette Score: 0.14371949001054107\n"
     ]
    }
   ],
   "source": [
    "# Compute the silhouette score\n",
    "silhouette_avg = silhouette_score(X, cluster_labels)\n",
    "\n",
    "print(f\"Silhouette Score: {silhouette_avg}\")"
   ]
  }
 ],
 "metadata": {
  "kernelspec": {
   "display_name": "Python 3 (ipykernel)",
   "language": "python",
   "name": "python3"
  },
  "language_info": {
   "codemirror_mode": {
    "name": "ipython",
    "version": 3
   },
   "file_extension": ".py",
   "mimetype": "text/x-python",
   "name": "python",
   "nbconvert_exporter": "python",
   "pygments_lexer": "ipython3",
   "version": "3.9.12"
  }
 },
 "nbformat": 4,
 "nbformat_minor": 5
}
