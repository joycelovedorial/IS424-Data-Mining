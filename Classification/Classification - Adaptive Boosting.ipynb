{
 "cells": [
  {
   "cell_type": "markdown",
   "id": "29225dfe",
   "metadata": {},
   "source": [
    "# Classification - Adaptive Boosting"
   ]
  },
  {
   "cell_type": "markdown",
   "id": "790dff26",
   "metadata": {},
   "source": [
    "Why use Adaptive Boosting?\n",
    "\n",
    "- Boosting Technique: AdaBoost works by combining multiple weak classifiers into a strong classifier iteratively. Each weak classifier is trained sequentially, and at each iteration, the algorithm assigns higher weights to the misclassified data points, focusing on the difficult-to-classify instances.\n",
    "\n",
    "- Handling Imbalanced Data: If the diabetes dataset is imbalanced (i.e., one class is more prevalent than the other), AdaBoost can effectively handle this situation by adjusting the weights of misclassified instances, thus giving more attention to the minority class.\n",
    "\n",
    "- Robustness to Overfitting: AdaBoost tends to be less prone to overfitting compared to other ensemble methods like Random Forest. This is because it focuses on improving the performance of misclassified instances in subsequent iterations, leading to a generalized model.\n",
    "\n",
    "- Simple Weak Learners: AdaBoost can work well with simple weak learners (e.g., decision trees with a depth of one or stump), which are computationally efficient and less prone to overfitting. This simplicity can be advantageous for the diabetes dataset, especially if the dataset is not extremely complex.\n",
    "\n",
    "- Predictive Performance: AdaBoost often produces high predictive performance, especially when combined with weak learners that have different biases. This diversity among weak learners can help capture different aspects of the diabetes dataset, leading to improved classification accuracy.\n",
    "\n",
    "- Feature Importance: Although not as straightforward as in some other ensemble methods, AdaBoost indirectly provides information about feature importance based on how frequently each feature is used by the weak learners during training."
   ]
  },
  {
   "cell_type": "code",
   "execution_count": 27,
   "id": "45b7341a",
   "metadata": {},
   "outputs": [],
   "source": [
    "# Import packages\n",
    "import pandas as pd\n",
    "from sklearn.model_selection import train_test_split\n",
    "from sklearn.ensemble import AdaBoostClassifier\n",
    "from sklearn.metrics import accuracy_score, precision_score, recall_score, f1_score"
   ]
  },
  {
   "cell_type": "markdown",
   "id": "c7e7845e",
   "metadata": {},
   "source": [
    "Normalised - Without outlier"
   ]
  },
  {
   "cell_type": "code",
   "execution_count": 28,
   "id": "15828d8f",
   "metadata": {},
   "outputs": [],
   "source": [
    "# We will be using the new_df_without_outliers_copy_smote_resampled.xlsx\n",
    "df_without_outlier = pd.read_excel('C:\\wamp64\\www\\IS424-Data-Mining\\Data_Set\\\\new_df_without_outliers_copy_smote_resampled.xlsx')\n",
    "df_without_outlier"
   ]
  },
  {
   "cell_type": "code",
   "execution_count": null,
   "id": "2bfb8173",
   "metadata": {},
   "outputs": [],
   "source": [
    "# Split the dataset into features and target variable\n",
    "X = df_without_outlier.drop(columns=['diabetes'])\n",
    "y = df_without_outlier['diabetes']"
   ]
  },
  {
   "cell_type": "code",
   "execution_count": null,
   "id": "42b9faaa",
   "metadata": {},
   "outputs": [],
   "source": [
    "# Split the data into training and testing sets\n",
    "X_train, X_test, y_train, y_test = train_test_split(X, y, test_size=0.2, random_state=42)"
   ]
  },
  {
   "cell_type": "code",
   "execution_count": null,
   "id": "ccfe9d03",
   "metadata": {},
   "outputs": [
    {
     "data": {
      "text/plain": [
       "AdaBoostClassifier(random_state=42)"
      ]
     },
     "execution_count": 6,
     "metadata": {},
     "output_type": "execute_result"
    }
   ],
   "source": [
    "# Train a Gradient Boosting classifier\n",
    "ada_classifier = AdaBoostClassifier(random_state=42)\n",
    "ada_classifier.fit(X_train, y_train)"
   ]
  },
  {
   "cell_type": "code",
   "execution_count": null,
   "id": "7a98c6e7",
   "metadata": {},
   "outputs": [],
   "source": [
    "# Evaluate the Gradient Boosting classifier\n",
    "y_pred_ada = ada_classifier.predict(X_test)\n",
    "\n",
    "accuracy = accuracy_score(y_test, y_pred_ada)\n",
    "precision = precision_score(y_test, y_pred_ada)\n",
    "recall = recall_score(y_test, y_pred_ada)\n",
    "f1 = f1_score(y_test, y_pred_ada)"
   ]
  },
  {
   "cell_type": "code",
   "execution_count": null,
   "id": "c3a47adf",
   "metadata": {},
   "outputs": [
    {
     "name": "stdout",
     "output_type": "stream",
     "text": [
      "Gradient Boosting Classifier Evaluation Report (Normalised w/o outlier):\n",
      "Accuracy: 0.9589279306632807\n",
      "Precision: 0.9622232113052186\n",
      "Recall: 0.9553137428192665\n",
      "F1-score: 0.9587560286046898\n"
     ]
    }
   ],
   "source": [
    "print(\"Adaptive Boosting Evaluation Report (Normalised w/o outlier):\")\n",
    "print(\"Accuracy:\", accuracy)\n",
    "print(\"Precision:\", precision)\n",
    "print(\"Recall:\", recall)\n",
    "print(\"F1-score:\", f1)"
   ]
  },
  {
   "cell_type": "markdown",
   "id": "e74c5d4f",
   "metadata": {},
   "source": [
    "Normalised - Outlier Only"
   ]
  },
  {
   "cell_type": "code",
   "execution_count": null,
   "id": "47bf5e6f",
   "metadata": {},
   "outputs": [
    {
     "data": {
      "text/html": [
       "<div>\n",
       "<style scoped>\n",
       "    .dataframe tbody tr th:only-of-type {\n",
       "        vertical-align: middle;\n",
       "    }\n",
       "\n",
       "    .dataframe tbody tr th {\n",
       "        vertical-align: top;\n",
       "    }\n",
       "\n",
       "    .dataframe thead th {\n",
       "        text-align: right;\n",
       "    }\n",
       "</style>\n",
       "<table border=\"1\" class=\"dataframe\">\n",
       "  <thead>\n",
       "    <tr style=\"text-align: right;\">\n",
       "      <th></th>\n",
       "      <th>age</th>\n",
       "      <th>hypertension</th>\n",
       "      <th>heart_disease</th>\n",
       "      <th>bmi</th>\n",
       "      <th>HbA1c_level</th>\n",
       "      <th>blood_glucose_level</th>\n",
       "      <th>smoking_history_encoded</th>\n",
       "      <th>gender_encoded</th>\n",
       "      <th>diabetes</th>\n",
       "    </tr>\n",
       "  </thead>\n",
       "  <tbody>\n",
       "    <tr>\n",
       "      <th>0</th>\n",
       "      <td>0.174516</td>\n",
       "      <td>0</td>\n",
       "      <td>0</td>\n",
       "      <td>0.930849</td>\n",
       "      <td>-0.357602</td>\n",
       "      <td>-1.154539</td>\n",
       "      <td>1.806645</td>\n",
       "      <td>-0.777719</td>\n",
       "      <td>0</td>\n",
       "    </tr>\n",
       "    <tr>\n",
       "      <th>1</th>\n",
       "      <td>-1.018012</td>\n",
       "      <td>0</td>\n",
       "      <td>0</td>\n",
       "      <td>1.073804</td>\n",
       "      <td>-0.233789</td>\n",
       "      <td>0.206884</td>\n",
       "      <td>-0.280453</td>\n",
       "      <td>-0.777719</td>\n",
       "      <td>0</td>\n",
       "    </tr>\n",
       "    <tr>\n",
       "      <th>2</th>\n",
       "      <td>0.949660</td>\n",
       "      <td>0</td>\n",
       "      <td>0</td>\n",
       "      <td>1.656370</td>\n",
       "      <td>1.375782</td>\n",
       "      <td>-0.405756</td>\n",
       "      <td>-0.280453</td>\n",
       "      <td>-0.777719</td>\n",
       "      <td>1</td>\n",
       "    </tr>\n",
       "    <tr>\n",
       "      <th>3</th>\n",
       "      <td>-0.779506</td>\n",
       "      <td>0</td>\n",
       "      <td>0</td>\n",
       "      <td>1.006045</td>\n",
       "      <td>-0.048069</td>\n",
       "      <td>-0.746112</td>\n",
       "      <td>-0.280453</td>\n",
       "      <td>1.417943</td>\n",
       "      <td>0</td>\n",
       "    </tr>\n",
       "    <tr>\n",
       "      <th>4</th>\n",
       "      <td>-1.256518</td>\n",
       "      <td>0</td>\n",
       "      <td>0</td>\n",
       "      <td>0.553214</td>\n",
       "      <td>-0.357602</td>\n",
       "      <td>-1.154539</td>\n",
       "      <td>-1.553924</td>\n",
       "      <td>-0.777719</td>\n",
       "      <td>0</td>\n",
       "    </tr>\n",
       "    <tr>\n",
       "      <th>...</th>\n",
       "      <td>...</td>\n",
       "      <td>...</td>\n",
       "      <td>...</td>\n",
       "      <td>...</td>\n",
       "      <td>...</td>\n",
       "      <td>...</td>\n",
       "      <td>...</td>\n",
       "      <td>...</td>\n",
       "      <td>...</td>\n",
       "    </tr>\n",
       "    <tr>\n",
       "      <th>6163</th>\n",
       "      <td>0.449954</td>\n",
       "      <td>0</td>\n",
       "      <td>0</td>\n",
       "      <td>0.397771</td>\n",
       "      <td>-0.410728</td>\n",
       "      <td>-0.364914</td>\n",
       "      <td>-0.280453</td>\n",
       "      <td>-0.777719</td>\n",
       "      <td>0</td>\n",
       "    </tr>\n",
       "    <tr>\n",
       "      <th>6164</th>\n",
       "      <td>-0.874241</td>\n",
       "      <td>0</td>\n",
       "      <td>0</td>\n",
       "      <td>0.341732</td>\n",
       "      <td>-1.100480</td>\n",
       "      <td>-0.786955</td>\n",
       "      <td>-1.030285</td>\n",
       "      <td>-0.777719</td>\n",
       "      <td>0</td>\n",
       "    </tr>\n",
       "    <tr>\n",
       "      <th>6165</th>\n",
       "      <td>-2.108582</td>\n",
       "      <td>0</td>\n",
       "      <td>0</td>\n",
       "      <td>0.585866</td>\n",
       "      <td>-0.225281</td>\n",
       "      <td>-1.399595</td>\n",
       "      <td>-1.009532</td>\n",
       "      <td>-0.777719</td>\n",
       "      <td>0</td>\n",
       "    </tr>\n",
       "    <tr>\n",
       "      <th>6166</th>\n",
       "      <td>-0.640560</td>\n",
       "      <td>0</td>\n",
       "      <td>0</td>\n",
       "      <td>0.629500</td>\n",
       "      <td>-0.108843</td>\n",
       "      <td>-0.405756</td>\n",
       "      <td>-1.133316</td>\n",
       "      <td>-0.052526</td>\n",
       "      <td>0</td>\n",
       "    </tr>\n",
       "    <tr>\n",
       "      <th>6167</th>\n",
       "      <td>0.591901</td>\n",
       "      <td>0</td>\n",
       "      <td>0</td>\n",
       "      <td>1.627652</td>\n",
       "      <td>-1.001929</td>\n",
       "      <td>-0.364914</td>\n",
       "      <td>0.629038</td>\n",
       "      <td>1.417943</td>\n",
       "      <td>0</td>\n",
       "    </tr>\n",
       "  </tbody>\n",
       "</table>\n",
       "<p>6168 rows × 9 columns</p>\n",
       "</div>"
      ],
      "text/plain": [
       "           age  hypertension  heart_disease       bmi  HbA1c_level  \\\n",
       "0     0.174516             0              0  0.930849    -0.357602   \n",
       "1    -1.018012             0              0  1.073804    -0.233789   \n",
       "2     0.949660             0              0  1.656370     1.375782   \n",
       "3    -0.779506             0              0  1.006045    -0.048069   \n",
       "4    -1.256518             0              0  0.553214    -0.357602   \n",
       "...        ...           ...            ...       ...          ...   \n",
       "6163  0.449954             0              0  0.397771    -0.410728   \n",
       "6164 -0.874241             0              0  0.341732    -1.100480   \n",
       "6165 -2.108582             0              0  0.585866    -0.225281   \n",
       "6166 -0.640560             0              0  0.629500    -0.108843   \n",
       "6167  0.591901             0              0  1.627652    -1.001929   \n",
       "\n",
       "      blood_glucose_level  smoking_history_encoded  gender_encoded  diabetes  \n",
       "0               -1.154539                 1.806645       -0.777719         0  \n",
       "1                0.206884                -0.280453       -0.777719         0  \n",
       "2               -0.405756                -0.280453       -0.777719         1  \n",
       "3               -0.746112                -0.280453        1.417943         0  \n",
       "4               -1.154539                -1.553924       -0.777719         0  \n",
       "...                   ...                      ...             ...       ...  \n",
       "6163            -0.364914                -0.280453       -0.777719         0  \n",
       "6164            -0.786955                -1.030285       -0.777719         0  \n",
       "6165            -1.399595                -1.009532       -0.777719         0  \n",
       "6166            -0.405756                -1.133316       -0.052526         0  \n",
       "6167            -0.364914                 0.629038        1.417943         0  \n",
       "\n",
       "[6168 rows x 9 columns]"
      ]
     },
     "execution_count": 9,
     "metadata": {},
     "output_type": "execute_result"
    }
   ],
   "source": [
    "# We will be using the new_df_without_outliers_copy_smote_resampled.xlsx\n",
    "df_outlier = pd.read_excel('C:\\wamp64\\www\\IS424-Data-Mining\\Data_Set\\\\new_df_outliers_only_copy_smote_resampled.xlsx')\n",
    "df_outlier"
   ]
  },
  {
   "cell_type": "code",
   "execution_count": null,
   "id": "9969f641",
   "metadata": {},
   "outputs": [],
   "source": [
    "# Split the dataset into features and target variable\n",
    "X = df_outlier.drop(columns=['diabetes'])\n",
    "y = df_outlier['diabetes']"
   ]
  },
  {
   "cell_type": "code",
   "execution_count": null,
   "id": "e921d8c9",
   "metadata": {},
   "outputs": [],
   "source": [
    "# Split the data into training and testing sets\n",
    "X_train, X_test, y_train, y_test = train_test_split(X, y, test_size=0.2, random_state=42)"
   ]
  },
  {
   "cell_type": "code",
   "execution_count": null,
   "id": "c47461c9",
   "metadata": {},
   "outputs": [
    {
     "data": {
      "text/plain": [
       "AdaBoostClassifier(random_state=42)"
      ]
     },
     "execution_count": 12,
     "metadata": {},
     "output_type": "execute_result"
    }
   ],
   "source": [
    "# Train a Adaptive Boosting classifier\n",
    "ada_classifier = AdaBoostClassifier(random_state=42)\n",
    "ada_classifier.fit(X_train, y_train)"
   ]
  },
  {
   "cell_type": "code",
   "execution_count": null,
   "id": "dfbf5fcd",
   "metadata": {},
   "outputs": [],
   "source": [
    "# Evaluate the Adaptive Boosting classifier\n",
    "y_pred_gb = ada_classifier.predict(X_test)\n",
    "\n",
    "accuracy = accuracy_score(y_test, y_pred_gb)\n",
    "precision = precision_score(y_test, y_pred_gb)\n",
    "recall = recall_score(y_test, y_pred_gb)\n",
    "f1 = f1_score(y_test, y_pred_gb)"
   ]
  },
  {
   "cell_type": "code",
   "execution_count": null,
   "id": "226d7d95",
   "metadata": {},
   "outputs": [
    {
     "name": "stdout",
     "output_type": "stream",
     "text": [
      "Gradient Boosting Classifier Evaluation Report (Normalised outliers only):\n",
      "Accuracy: 0.9821717990275527\n",
      "Precision: 0.9918433931484503\n",
      "Recall: 0.9728\n",
      "F1-score: 0.9822294022617124\n"
     ]
    }
   ],
   "source": [
    "print(\"Adaptive Boosting Evaluation Report (Normalised outliers only):\")\n",
    "print(\"Accuracy:\", accuracy)\n",
    "print(\"Precision:\", precision)\n",
    "print(\"Recall:\", recall)\n",
    "print(\"F1-score:\", f1)"
   ]
  },
  {
   "cell_type": "markdown",
   "id": "83f48dbe",
   "metadata": {},
   "source": [
    "Not Normalised - Without Outliers"
   ]
  },
  {
   "cell_type": "code",
   "execution_count": null,
   "id": "48285d28",
   "metadata": {},
   "outputs": [
    {
     "data": {
      "text/html": [
       "<div>\n",
       "<style scoped>\n",
       "    .dataframe tbody tr th:only-of-type {\n",
       "        vertical-align: middle;\n",
       "    }\n",
       "\n",
       "    .dataframe tbody tr th {\n",
       "        vertical-align: top;\n",
       "    }\n",
       "\n",
       "    .dataframe thead th {\n",
       "        text-align: right;\n",
       "    }\n",
       "</style>\n",
       "<table border=\"1\" class=\"dataframe\">\n",
       "  <thead>\n",
       "    <tr style=\"text-align: right;\">\n",
       "      <th></th>\n",
       "      <th>age</th>\n",
       "      <th>hypertension</th>\n",
       "      <th>heart_disease</th>\n",
       "      <th>bmi</th>\n",
       "      <th>HbA1c_level</th>\n",
       "      <th>blood_glucose_level</th>\n",
       "      <th>smoking_history_encoded</th>\n",
       "      <th>gender_encoded</th>\n",
       "      <th>diabetes</th>\n",
       "    </tr>\n",
       "  </thead>\n",
       "  <tbody>\n",
       "    <tr>\n",
       "      <th>0</th>\n",
       "      <td>80.0</td>\n",
       "      <td>0</td>\n",
       "      <td>1</td>\n",
       "      <td>25.190000</td>\n",
       "      <td>6.600000</td>\n",
       "      <td>140</td>\n",
       "      <td>0.131757</td>\n",
       "      <td>-0.128959</td>\n",
       "      <td>0</td>\n",
       "    </tr>\n",
       "    <tr>\n",
       "      <th>1</th>\n",
       "      <td>54.0</td>\n",
       "      <td>0</td>\n",
       "      <td>0</td>\n",
       "      <td>27.320000</td>\n",
       "      <td>6.600000</td>\n",
       "      <td>80</td>\n",
       "      <td>-0.797024</td>\n",
       "      <td>-0.128959</td>\n",
       "      <td>0</td>\n",
       "    </tr>\n",
       "    <tr>\n",
       "      <th>2</th>\n",
       "      <td>28.0</td>\n",
       "      <td>0</td>\n",
       "      <td>0</td>\n",
       "      <td>27.320000</td>\n",
       "      <td>5.700000</td>\n",
       "      <td>158</td>\n",
       "      <td>0.131757</td>\n",
       "      <td>0.160772</td>\n",
       "      <td>0</td>\n",
       "    </tr>\n",
       "    <tr>\n",
       "      <th>3</th>\n",
       "      <td>36.0</td>\n",
       "      <td>0</td>\n",
       "      <td>0</td>\n",
       "      <td>23.450000</td>\n",
       "      <td>5.000000</td>\n",
       "      <td>155</td>\n",
       "      <td>0.165669</td>\n",
       "      <td>-0.128959</td>\n",
       "      <td>0</td>\n",
       "    </tr>\n",
       "    <tr>\n",
       "      <th>4</th>\n",
       "      <td>76.0</td>\n",
       "      <td>1</td>\n",
       "      <td>1</td>\n",
       "      <td>20.140000</td>\n",
       "      <td>4.800000</td>\n",
       "      <td>155</td>\n",
       "      <td>0.165669</td>\n",
       "      <td>0.160772</td>\n",
       "      <td>0</td>\n",
       "    </tr>\n",
       "    <tr>\n",
       "      <th>...</th>\n",
       "      <td>...</td>\n",
       "      <td>...</td>\n",
       "      <td>...</td>\n",
       "      <td>...</td>\n",
       "      <td>...</td>\n",
       "      <td>...</td>\n",
       "      <td>...</td>\n",
       "      <td>...</td>\n",
       "      <td>...</td>\n",
       "    </tr>\n",
       "    <tr>\n",
       "      <th>181139</th>\n",
       "      <td>80.0</td>\n",
       "      <td>0</td>\n",
       "      <td>0</td>\n",
       "      <td>27.191924</td>\n",
       "      <td>6.949298</td>\n",
       "      <td>126</td>\n",
       "      <td>0.554826</td>\n",
       "      <td>0.160772</td>\n",
       "      <td>1</td>\n",
       "    </tr>\n",
       "    <tr>\n",
       "      <th>181140</th>\n",
       "      <td>80.0</td>\n",
       "      <td>0</td>\n",
       "      <td>0</td>\n",
       "      <td>27.320000</td>\n",
       "      <td>5.800000</td>\n",
       "      <td>155</td>\n",
       "      <td>0.313504</td>\n",
       "      <td>-0.052799</td>\n",
       "      <td>1</td>\n",
       "    </tr>\n",
       "    <tr>\n",
       "      <th>181141</th>\n",
       "      <td>35.0</td>\n",
       "      <td>0</td>\n",
       "      <td>0</td>\n",
       "      <td>27.320357</td>\n",
       "      <td>6.995535</td>\n",
       "      <td>159</td>\n",
       "      <td>0.383605</td>\n",
       "      <td>0.160772</td>\n",
       "      <td>1</td>\n",
       "    </tr>\n",
       "    <tr>\n",
       "      <th>181142</th>\n",
       "      <td>58.0</td>\n",
       "      <td>0</td>\n",
       "      <td>0</td>\n",
       "      <td>27.320000</td>\n",
       "      <td>6.017092</td>\n",
       "      <td>155</td>\n",
       "      <td>-0.797024</td>\n",
       "      <td>0.160772</td>\n",
       "      <td>1</td>\n",
       "    </tr>\n",
       "    <tr>\n",
       "      <th>181143</th>\n",
       "      <td>80.0</td>\n",
       "      <td>1</td>\n",
       "      <td>0</td>\n",
       "      <td>27.799284</td>\n",
       "      <td>6.163822</td>\n",
       "      <td>260</td>\n",
       "      <td>0.131757</td>\n",
       "      <td>-0.076550</td>\n",
       "      <td>1</td>\n",
       "    </tr>\n",
       "  </tbody>\n",
       "</table>\n",
       "<p>181144 rows × 9 columns</p>\n",
       "</div>"
      ],
      "text/plain": [
       "         age  hypertension  heart_disease        bmi  HbA1c_level  \\\n",
       "0       80.0             0              1  25.190000     6.600000   \n",
       "1       54.0             0              0  27.320000     6.600000   \n",
       "2       28.0             0              0  27.320000     5.700000   \n",
       "3       36.0             0              0  23.450000     5.000000   \n",
       "4       76.0             1              1  20.140000     4.800000   \n",
       "...      ...           ...            ...        ...          ...   \n",
       "181139  80.0             0              0  27.191924     6.949298   \n",
       "181140  80.0             0              0  27.320000     5.800000   \n",
       "181141  35.0             0              0  27.320357     6.995535   \n",
       "181142  58.0             0              0  27.320000     6.017092   \n",
       "181143  80.0             1              0  27.799284     6.163822   \n",
       "\n",
       "        blood_glucose_level  smoking_history_encoded  gender_encoded  diabetes  \n",
       "0                       140                 0.131757       -0.128959         0  \n",
       "1                        80                -0.797024       -0.128959         0  \n",
       "2                       158                 0.131757        0.160772         0  \n",
       "3                       155                 0.165669       -0.128959         0  \n",
       "4                       155                 0.165669        0.160772         0  \n",
       "...                     ...                      ...             ...       ...  \n",
       "181139                  126                 0.554826        0.160772         1  \n",
       "181140                  155                 0.313504       -0.052799         1  \n",
       "181141                  159                 0.383605        0.160772         1  \n",
       "181142                  155                -0.797024        0.160772         1  \n",
       "181143                  260                 0.131757       -0.076550         1  \n",
       "\n",
       "[181144 rows x 9 columns]"
      ]
     },
     "execution_count": 15,
     "metadata": {},
     "output_type": "execute_result"
    }
   ],
   "source": [
    "df_without_outlier_notnorm = pd.read_csv('C:\\wamp64\\www\\IS424-Data-Mining\\Data_Set\\\\new_df_without_outliers_copy_smote_resampled_noNormalised.csv')\n",
    "df_without_outlier_notnorm"
   ]
  },
  {
   "cell_type": "code",
   "execution_count": null,
   "id": "c745c8d5",
   "metadata": {},
   "outputs": [],
   "source": [
    "# Split the dataset into features and target variable\n",
    "X = df_without_outlier_notnorm.drop(columns=['diabetes'])\n",
    "y = df_without_outlier_notnorm['diabetes']"
   ]
  },
  {
   "cell_type": "code",
   "execution_count": null,
   "id": "c33b1d77",
   "metadata": {},
   "outputs": [],
   "source": [
    "# Split the data into training and testing sets\n",
    "X_train, X_test, y_train, y_test = train_test_split(X, y, test_size=0.2, random_state=42)"
   ]
  },
  {
   "cell_type": "code",
   "execution_count": null,
   "id": "9c6cd6dd",
   "metadata": {},
   "outputs": [
    {
     "data": {
      "text/plain": [
       "AdaBoostClassifier(random_state=42)"
      ]
     },
     "execution_count": 18,
     "metadata": {},
     "output_type": "execute_result"
    }
   ],
   "source": [
    "# Train a Gradient Boosting classifier\n",
    "ada_classifier = AdaBoostClassifier(random_state=42)\n",
    "ada_classifier.fit(X_train, y_train)"
   ]
  },
  {
   "cell_type": "code",
   "execution_count": null,
   "id": "3e526756",
   "metadata": {},
   "outputs": [],
   "source": [
    "# Evaluate the Gradient Boosting classifier\n",
    "y_pred_gb = ada_classifier.predict(X_test)\n",
    "\n",
    "accuracy = accuracy_score(y_test, y_pred_gb)\n",
    "precision = precision_score(y_test, y_pred_gb)\n",
    "recall = recall_score(y_test, y_pred_gb)\n",
    "f1 = f1_score(y_test, y_pred_gb)"
   ]
  },
  {
   "cell_type": "code",
   "execution_count": null,
   "id": "ef300559",
   "metadata": {},
   "outputs": [
    {
     "name": "stdout",
     "output_type": "stream",
     "text": [
      "Gradient Boosting Classifier Evaluation Report (Not Normalised w/o outlier):\n",
      "Accuracy: 0.9589279306632807\n",
      "Precision: 0.9622232113052186\n",
      "Recall: 0.9553137428192665\n",
      "F1-score: 0.9587560286046898\n"
     ]
    }
   ],
   "source": [
    "print(\"Adaptive Boosting Evaluation Report (Not Normalised w/o outlier):\")\n",
    "print(\"Accuracy:\", accuracy)\n",
    "print(\"Precision:\", precision)\n",
    "print(\"Recall:\", recall)\n",
    "print(\"F1-score:\", f1)"
   ]
  },
  {
   "cell_type": "markdown",
   "id": "ca3c3c0f",
   "metadata": {},
   "source": [
    "Not Normalised - Outliers Only "
   ]
  },
  {
   "cell_type": "code",
   "execution_count": null,
   "id": "e02678d8",
   "metadata": {},
   "outputs": [
    {
     "data": {
      "text/html": [
       "<div>\n",
       "<style scoped>\n",
       "    .dataframe tbody tr th:only-of-type {\n",
       "        vertical-align: middle;\n",
       "    }\n",
       "\n",
       "    .dataframe tbody tr th {\n",
       "        vertical-align: top;\n",
       "    }\n",
       "\n",
       "    .dataframe thead th {\n",
       "        text-align: right;\n",
       "    }\n",
       "</style>\n",
       "<table border=\"1\" class=\"dataframe\">\n",
       "  <thead>\n",
       "    <tr style=\"text-align: right;\">\n",
       "      <th></th>\n",
       "      <th>age</th>\n",
       "      <th>hypertension</th>\n",
       "      <th>heart_disease</th>\n",
       "      <th>bmi</th>\n",
       "      <th>HbA1c_level</th>\n",
       "      <th>blood_glucose_level</th>\n",
       "      <th>smoking_history_encoded</th>\n",
       "      <th>gender_encoded</th>\n",
       "      <th>diabetes</th>\n",
       "    </tr>\n",
       "  </thead>\n",
       "  <tbody>\n",
       "    <tr>\n",
       "      <th>0</th>\n",
       "      <td>54.000000</td>\n",
       "      <td>0</td>\n",
       "      <td>0</td>\n",
       "      <td>54.700000</td>\n",
       "      <td>6.000000</td>\n",
       "      <td>100</td>\n",
       "      <td>0.310171</td>\n",
       "      <td>-0.310005</td>\n",
       "      <td>0</td>\n",
       "    </tr>\n",
       "    <tr>\n",
       "      <th>1</th>\n",
       "      <td>34.000000</td>\n",
       "      <td>0</td>\n",
       "      <td>0</td>\n",
       "      <td>56.430000</td>\n",
       "      <td>6.200000</td>\n",
       "      <td>200</td>\n",
       "      <td>-0.052540</td>\n",
       "      <td>-0.310005</td>\n",
       "      <td>0</td>\n",
       "    </tr>\n",
       "    <tr>\n",
       "      <th>2</th>\n",
       "      <td>67.000000</td>\n",
       "      <td>0</td>\n",
       "      <td>0</td>\n",
       "      <td>63.480000</td>\n",
       "      <td>8.800000</td>\n",
       "      <td>155</td>\n",
       "      <td>-0.052540</td>\n",
       "      <td>-0.310005</td>\n",
       "      <td>1</td>\n",
       "    </tr>\n",
       "    <tr>\n",
       "      <th>3</th>\n",
       "      <td>38.000000</td>\n",
       "      <td>0</td>\n",
       "      <td>0</td>\n",
       "      <td>55.610000</td>\n",
       "      <td>6.500000</td>\n",
       "      <td>130</td>\n",
       "      <td>-0.052540</td>\n",
       "      <td>0.561670</td>\n",
       "      <td>0</td>\n",
       "    </tr>\n",
       "    <tr>\n",
       "      <th>4</th>\n",
       "      <td>30.000000</td>\n",
       "      <td>0</td>\n",
       "      <td>0</td>\n",
       "      <td>50.130000</td>\n",
       "      <td>6.000000</td>\n",
       "      <td>100</td>\n",
       "      <td>-0.273853</td>\n",
       "      <td>-0.310005</td>\n",
       "      <td>0</td>\n",
       "    </tr>\n",
       "    <tr>\n",
       "      <th>...</th>\n",
       "      <td>...</td>\n",
       "      <td>...</td>\n",
       "      <td>...</td>\n",
       "      <td>...</td>\n",
       "      <td>...</td>\n",
       "      <td>...</td>\n",
       "      <td>...</td>\n",
       "      <td>...</td>\n",
       "      <td>...</td>\n",
       "    </tr>\n",
       "    <tr>\n",
       "      <th>6163</th>\n",
       "      <td>58.619390</td>\n",
       "      <td>0</td>\n",
       "      <td>0</td>\n",
       "      <td>48.248887</td>\n",
       "      <td>5.914183</td>\n",
       "      <td>158</td>\n",
       "      <td>-0.052540</td>\n",
       "      <td>-0.310005</td>\n",
       "      <td>0</td>\n",
       "    </tr>\n",
       "    <tr>\n",
       "      <th>6164</th>\n",
       "      <td>36.411190</td>\n",
       "      <td>0</td>\n",
       "      <td>0</td>\n",
       "      <td>47.570729</td>\n",
       "      <td>4.800000</td>\n",
       "      <td>127</td>\n",
       "      <td>-0.182851</td>\n",
       "      <td>-0.310005</td>\n",
       "      <td>0</td>\n",
       "    </tr>\n",
       "    <tr>\n",
       "      <th>6165</th>\n",
       "      <td>15.709946</td>\n",
       "      <td>0</td>\n",
       "      <td>0</td>\n",
       "      <td>50.525147</td>\n",
       "      <td>6.213743</td>\n",
       "      <td>82</td>\n",
       "      <td>-0.179245</td>\n",
       "      <td>-0.310005</td>\n",
       "      <td>0</td>\n",
       "    </tr>\n",
       "    <tr>\n",
       "      <th>6166</th>\n",
       "      <td>40.330285</td>\n",
       "      <td>0</td>\n",
       "      <td>0</td>\n",
       "      <td>51.053191</td>\n",
       "      <td>6.401829</td>\n",
       "      <td>155</td>\n",
       "      <td>-0.200757</td>\n",
       "      <td>-0.022104</td>\n",
       "      <td>0</td>\n",
       "    </tr>\n",
       "    <tr>\n",
       "      <th>6167</th>\n",
       "      <td>61.000000</td>\n",
       "      <td>0</td>\n",
       "      <td>0</td>\n",
       "      <td>63.132468</td>\n",
       "      <td>4.959194</td>\n",
       "      <td>158</td>\n",
       "      <td>0.105518</td>\n",
       "      <td>0.561670</td>\n",
       "      <td>0</td>\n",
       "    </tr>\n",
       "  </tbody>\n",
       "</table>\n",
       "<p>6168 rows × 9 columns</p>\n",
       "</div>"
      ],
      "text/plain": [
       "            age  hypertension  heart_disease        bmi  HbA1c_level  \\\n",
       "0     54.000000             0              0  54.700000     6.000000   \n",
       "1     34.000000             0              0  56.430000     6.200000   \n",
       "2     67.000000             0              0  63.480000     8.800000   \n",
       "3     38.000000             0              0  55.610000     6.500000   \n",
       "4     30.000000             0              0  50.130000     6.000000   \n",
       "...         ...           ...            ...        ...          ...   \n",
       "6163  58.619390             0              0  48.248887     5.914183   \n",
       "6164  36.411190             0              0  47.570729     4.800000   \n",
       "6165  15.709946             0              0  50.525147     6.213743   \n",
       "6166  40.330285             0              0  51.053191     6.401829   \n",
       "6167  61.000000             0              0  63.132468     4.959194   \n",
       "\n",
       "      blood_glucose_level  smoking_history_encoded  gender_encoded  diabetes  \n",
       "0                     100                 0.310171       -0.310005         0  \n",
       "1                     200                -0.052540       -0.310005         0  \n",
       "2                     155                -0.052540       -0.310005         1  \n",
       "3                     130                -0.052540        0.561670         0  \n",
       "4                     100                -0.273853       -0.310005         0  \n",
       "...                   ...                      ...             ...       ...  \n",
       "6163                  158                -0.052540       -0.310005         0  \n",
       "6164                  127                -0.182851       -0.310005         0  \n",
       "6165                   82                -0.179245       -0.310005         0  \n",
       "6166                  155                -0.200757       -0.022104         0  \n",
       "6167                  158                 0.105518        0.561670         0  \n",
       "\n",
       "[6168 rows x 9 columns]"
      ]
     },
     "execution_count": 21,
     "metadata": {},
     "output_type": "execute_result"
    }
   ],
   "source": [
    "df_outlier_notnorm = pd.read_csv('C:\\wamp64\\www\\IS424-Data-Mining\\Data_Set\\\\new_df_outliers_only_copy_smote_resampled_noNormalised.csv')\n",
    "df_outlier_notnorm"
   ]
  },
  {
   "cell_type": "code",
   "execution_count": null,
   "id": "46af2d55",
   "metadata": {},
   "outputs": [],
   "source": [
    "# Split the dataset into features and target variable\n",
    "X = df_outlier_notnorm.drop(columns=['diabetes'])\n",
    "y = df_outlier_notnorm['diabetes']"
   ]
  },
  {
   "cell_type": "code",
   "execution_count": null,
   "id": "c17993d0",
   "metadata": {},
   "outputs": [],
   "source": [
    "# Split the data into training and testing sets\n",
    "X_train, X_test, y_train, y_test = train_test_split(X, y, test_size=0.2, random_state=42)"
   ]
  },
  {
   "cell_type": "code",
   "execution_count": null,
   "id": "42d8fab1",
   "metadata": {},
   "outputs": [
    {
     "data": {
      "text/plain": [
       "AdaBoostClassifier(random_state=42)"
      ]
     },
     "execution_count": 24,
     "metadata": {},
     "output_type": "execute_result"
    }
   ],
   "source": [
    "# Train a Gradient Boosting classifier\n",
    "ada_classifier = AdaBoostClassifier(random_state=42)\n",
    "ada_classifier.fit(X_train, y_train)"
   ]
  },
  {
   "cell_type": "code",
   "execution_count": null,
   "id": "a834d391",
   "metadata": {},
   "outputs": [],
   "source": [
    "# Evaluate the Gradient Boosting classifier\n",
    "y_pred_gb = ada_classifier.predict(X_test)\n",
    "\n",
    "accuracy = accuracy_score(y_test, y_pred_gb)\n",
    "precision = precision_score(y_test, y_pred_gb)\n",
    "recall = recall_score(y_test, y_pred_gb)\n",
    "f1 = f1_score(y_test, y_pred_gb)"
   ]
  },
  {
   "cell_type": "code",
   "execution_count": null,
   "id": "6cd166f9",
   "metadata": {},
   "outputs": [
    {
     "name": "stdout",
     "output_type": "stream",
     "text": [
      "Gradient Boosting Classifier Evaluation Report (Not Normalised outliers only):\n",
      "Accuracy: 0.9821717990275527\n",
      "Precision: 0.9918433931484503\n",
      "Recall: 0.9728\n",
      "F1-score: 0.9822294022617124\n"
     ]
    }
   ],
   "source": [
    "print(\"Adaptive Boosting Evaluation Report (Not Normalised outliers only):\")\n",
    "print(\"Accuracy:\", accuracy)\n",
    "print(\"Precision:\", precision)\n",
    "print(\"Recall:\", recall)\n",
    "print(\"F1-score:\", f1)"
   ]
  }
 ],
 "metadata": {
  "kernelspec": {
   "display_name": "Python 3 (ipykernel)",
   "language": "python",
   "name": "python3"
  },
  "language_info": {
   "codemirror_mode": {
    "name": "ipython",
    "version": 3
   },
   "file_extension": ".py",
   "mimetype": "text/x-python",
   "name": "python",
   "nbconvert_exporter": "python",
   "pygments_lexer": "ipython3",
   "version": "3.9.12"
  }
 },
 "nbformat": 4,
 "nbformat_minor": 5
}
