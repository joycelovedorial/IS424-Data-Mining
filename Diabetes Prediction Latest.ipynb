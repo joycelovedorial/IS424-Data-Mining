{
 "cells": [
  {
   "cell_type": "code",
   "execution_count": null,
   "id": "cef4aa91",
   "metadata": {},
   "outputs": [],
   "source": [
    "import pandas as pd\n",
    "import numpy as np\n",
    "import seaborn as sns\n",
    "import matplotlib.pyplot as plt\n",
    "from category_encoders import WOEEncoder\n",
    "import category_encoders as ce\n",
    "\n",
    "from sklearn.linear_model import LogisticRegression\n",
    "from sklearn.tree import DecisionTreeClassifier\n",
    "from sklearn.ensemble import RandomForestClassifier\n",
    "from sklearn.ensemble import RandomForestClassifier\n",
    "\n",
    "from sklearn.utils import resample\n",
    "from sklearn.svm import LinearSVC\n",
    "from sklearn.naive_bayes import GaussianNB\n",
    "\n",
    "\n",
    "from sklearn.metrics import accuracy_score, classification_report, confusion_matrix\n",
    "from sklearn.model_selection import train_test_split\n",
    "\n",
    "plt.style.use('ggplot')\n"
   ]
  },
  {
   "cell_type": "markdown",
   "id": "dedae039",
   "metadata": {},
   "source": [
    "1. EDA"
   ]
  },
  {
   "cell_type": "code",
   "execution_count": null,
   "id": "ef6d79ba",
   "metadata": {},
   "outputs": [],
   "source": [
    "df = pd.read_csv('diabetes_prediction_dataset.csv')\n",
    "df.head(5)"
   ]
  },
  {
   "cell_type": "code",
   "execution_count": null,
   "id": "0cc8b329",
   "metadata": {},
   "outputs": [],
   "source": [
    "df.info()"
   ]
  },
  {
   "cell_type": "code",
   "execution_count": null,
   "id": "2f65a7b1",
   "metadata": {},
   "outputs": [],
   "source": [
    "df.shape"
   ]
  },
  {
   "cell_type": "code",
   "execution_count": null,
   "id": "8c6dbf42",
   "metadata": {},
   "outputs": [],
   "source": [
    "is_diabetic = df[\"diabetes\"].value_counts()\n",
    "print(\"Yes: \",is_diabetic[1])\n",
    "print(\"No: \",is_diabetic[0])"
   ]
  },
  {
   "cell_type": "markdown",
   "id": "58c7ce78",
   "metadata": {},
   "source": [
    "The data set is unbalanced"
   ]
  },
  {
   "cell_type": "code",
   "execution_count": null,
   "id": "30265170",
   "metadata": {
    "scrolled": false
   },
   "outputs": [],
   "source": [
    "# Check for duplicates and missing values\n",
    "print(\"Missing Values\")\n",
    "print(df.isna().sum())\n",
    "print(\"Duplicates:\" ,df.duplicated().sum())"
   ]
  },
  {
   "cell_type": "code",
   "execution_count": null,
   "id": "e0fc8140",
   "metadata": {},
   "outputs": [],
   "source": [
    "df.describe(include=\"all\")"
   ]
  },
  {
   "cell_type": "markdown",
   "id": "ca687fae",
   "metadata": {},
   "source": [
    "2. Data Visualization"
   ]
  },
  {
   "cell_type": "code",
   "execution_count": null,
   "id": "953cdf89",
   "metadata": {},
   "outputs": [],
   "source": [
    "is_diabetic = df[\"diabetes\"].value_counts()\n",
    "plt.figure(figsize=(10, 6))\n",
    "plt.subplot(1, 2, 1)  # Subplot for the pie chart\n",
    "plt.pie(is_diabetic, labels=[\"No\", \"YES\"], autopct=\"%0.0f%%\")\n",
    "plt.title(\"is_diabetic Counts\")\n",
    "plt.tight_layout()  # Adjust layout to prevent overlapping\n",
    "plt.show()\n"
   ]
  },
  {
   "cell_type": "markdown",
   "id": "91e17a01",
   "metadata": {},
   "source": [
    "Gender Distribution"
   ]
  },
  {
   "cell_type": "code",
   "execution_count": null,
   "id": "a6c6bca4",
   "metadata": {},
   "outputs": [],
   "source": [
    "fig,axb = plt.subplots(ncols=2,nrows=1,figsize=(15, 8))\n",
    "\n",
    "#Gender Distribution\n",
    "explode = [0.1, 0.1, 0.1]\n",
    "df.groupby('gender')['diabetes'].count().plot.pie(explode=explode, autopct=\"%1.1f%%\",ax=axb[0]);\n",
    "\n",
    "ax = sns.countplot(x=\"gender\", hue=\"diabetes\", data=df,ax=axb[1], palette=\"viridis\")\n",
    "\n",
    "# Add values on top of each bar\n",
    "for p in ax.patches:\n",
    "    ax.annotate(f'{p.get_height()}', (p.get_x() + p.get_width() / 2., p.get_height()),\n",
    "                ha='center', va='center', xytext=(0, 10), textcoords='offset points')\n",
    "\n",
    "# Set labels and title\n",
    "plt.title(\"Distribution of Gender with Diabetic Status\")\n",
    "plt.xlabel(\"Gender\")\n",
    "plt.ylabel(\"Count\")\n",
    "\n",
    "# Show the plot\n",
    "plt.show()"
   ]
  },
  {
   "cell_type": "markdown",
   "id": "2b632c35",
   "metadata": {},
   "source": [
    "Age Distribution"
   ]
  },
  {
   "cell_type": "code",
   "execution_count": null,
   "id": "5f0d094c",
   "metadata": {},
   "outputs": [],
   "source": [
    "#Age Distribution\n",
    "plt.hist(df[df['diabetes'] == 1]['age'], bins=20, alpha=1, label='Diabetic', color='red')\n",
    "plt.hist(df[df['diabetes'] == 0]['age'], bins=20, alpha=0.5, label='Non-Diabetic', color='blue')\n",
    "\n",
    "plt.title('Distribution of Age with Diabetic Status')\n",
    "plt.xlabel('Age')\n",
    "plt.ylabel('Frequency')\n",
    "plt.legend()\n",
    "plt.show()"
   ]
  },
  {
   "cell_type": "markdown",
   "id": "b90a4c56",
   "metadata": {},
   "source": [
    "Hypertension Distribution"
   ]
  },
  {
   "cell_type": "code",
   "execution_count": null,
   "id": "22583744",
   "metadata": {},
   "outputs": [],
   "source": [
    "fig,axb = plt.subplots(ncols=2,nrows=1,figsize=(15, 8))\n",
    "\n",
    "#Hypertension Distribution\n",
    "explode = [0.1, 0.1]\n",
    "df.groupby('hypertension')['diabetes'].count().plot.pie(explode=explode, autopct=\"%1.1f%%\",ax=axb[0]);\n",
    "\n",
    "ax = sns.countplot(x=\"hypertension\", hue=\"diabetes\", data=df,ax=axb[1], palette=\"viridis\")\n",
    "\n",
    "# Add values on top of each bar\n",
    "for p in ax.patches:\n",
    "    ax.annotate(f'{p.get_height()}', (p.get_x() + p.get_width() / 2., p.get_height()),\n",
    "                ha='center', va='center', xytext=(0, 10), textcoords='offset points')\n",
    "\n",
    "# Set labels and title\n",
    "plt.title(\"Distribution of Hypertension with Diabetic Status\")\n",
    "plt.xlabel(\"Hypertension\")\n",
    "plt.ylabel(\"Count\")\n",
    "\n",
    "# Show the plot\n",
    "plt.show()"
   ]
  },
  {
   "cell_type": "markdown",
   "id": "bc40ffb7",
   "metadata": {},
   "source": [
    "Heart Disease Distribution"
   ]
  },
  {
   "cell_type": "code",
   "execution_count": null,
   "id": "d1a1fa0f",
   "metadata": {},
   "outputs": [],
   "source": [
    "fig,axb = plt.subplots(ncols=2,nrows=1,figsize=(15, 8))\n",
    "\n",
    "#Heart Diseas Distribution\n",
    "explode = [0.1, 0.1]\n",
    "df.groupby('heart_disease')['diabetes'].count().plot.pie(explode=explode, autopct=\"%1.1f%%\",ax=axb[0]);\n",
    "\n",
    "ax = sns.countplot(x=\"heart_disease\", hue=\"diabetes\", palette=\"viridis\", data=df,ax=axb[1])\n",
    "\n",
    "# Add values on top of each bar\n",
    "for p in ax.patches:\n",
    "    ax.annotate(f'{p.get_height()}', (p.get_x() + p.get_width() / 2., p.get_height()),\n",
    "                ha='center', va='center', xytext=(0, 10), textcoords='offset points')\n",
    "\n",
    "# Set labels and title\n",
    "plt.title(\"Distribution of Heart Disease with Diabetic Status\")\n",
    "plt.xlabel(\"Heart Disease\")\n",
    "plt.ylabel(\"Count\")\n",
    "\n",
    "# Show the plot\n",
    "plt.show()"
   ]
  },
  {
   "cell_type": "markdown",
   "id": "626ef152",
   "metadata": {},
   "source": [
    "Smoking History Distribution"
   ]
  },
  {
   "cell_type": "code",
   "execution_count": null,
   "id": "9b4f4b91",
   "metadata": {},
   "outputs": [],
   "source": [
    "#Smoking History Bar chart\n",
    "plt.figure(figsize=(10, 6))\n",
    "sns.countplot(x=\"smoking_history\", data=df, hue=\"diabetes\", palette=\"viridis\")\n",
    "\n",
    "# Add values on top of each bar\n",
    "for p in ax.patches:\n",
    "    ax.annotate(f'{p.get_height()}', (p.get_x() + p.get_width() / 2., p.get_height()),\n",
    "                ha='center', va='center', xytext=(0, 10), textcoords='offset points')\n",
    "\n",
    "# Set labels and title\n",
    "plt.title(\"Smoking History Category with Diabetic Status\")\n",
    "plt.xlabel(\"Smoking History\")\n",
    "plt.ylabel(\"Count\")\n",
    "\n",
    "# Show the plot\n",
    "plt.show()"
   ]
  },
  {
   "cell_type": "markdown",
   "id": "0ba59737",
   "metadata": {},
   "source": [
    "BMI Distribution"
   ]
  },
  {
   "cell_type": "code",
   "execution_count": null,
   "id": "87c83b8e",
   "metadata": {},
   "outputs": [],
   "source": [
    "#BMI Distribution\n",
    "plt.hist(df[df['diabetes'] == 1]['bmi'], bins=20, alpha=1, label='Diabetic', color='red')\n",
    "plt.hist(df[df['diabetes'] == 0]['bmi'], bins=20, alpha=0.5, label='Non-Diabetic', color='blue')\n",
    "\n",
    "plt.title('Distribution of BMI with Diabetic Status')\n",
    "plt.xlabel('BMI')\n",
    "plt.ylabel('Frequency')\n",
    "plt.legend()"
   ]
  },
  {
   "cell_type": "markdown",
   "id": "411f87ba",
   "metadata": {},
   "source": [
    "Hemoglobin A1c Distribution"
   ]
  },
  {
   "cell_type": "markdown",
   "id": "8e1a9e47",
   "metadata": {},
   "source": [
    "Hemoglobin A1c (HbA1c):\n",
    "\n",
    "Definition: HbA1c is a measure of the average blood glucose levels over the past two to three months.\n",
    "\n",
    "How it works: When glucose enters the bloodstream, it binds to hemoglobin in red blood cells. The higher the blood glucose levels, the more glucose binds to hemoglobin. HbA1c reflects the percentage of hemoglobin that has glucose attached to it.\n",
    "\n",
    "Usage: It is a long-term marker of blood sugar control and is commonly used for monitoring and managing diabetes. It provides an average of blood sugar levels over time, offering a more stable indicator than daily or frequent glucose measurements.\n"
   ]
  },
  {
   "cell_type": "code",
   "execution_count": null,
   "id": "f7b5d3bd",
   "metadata": {},
   "outputs": [],
   "source": [
    "# HbA1c_level Distribution\n",
    "plt.hist(df[df['diabetes'] == 1]['HbA1c_level'], bins=10, alpha=1, label='Diabetic', color='red')\n",
    "plt.hist(df[df['diabetes'] == 0]['HbA1c_level'], bins=10, alpha=0.5, label='Non-Diabetic', color='blue')\n",
    "\n",
    "plt.title('Distribution of Hemglobin A1c level over the past 2 to 3 months with Diabetic Status')\n",
    "plt.xlabel('HbA1c Level')\n",
    "plt.ylabel('Frequency')\n",
    "plt.legend()"
   ]
  },
  {
   "cell_type": "markdown",
   "id": "988c89dd",
   "metadata": {},
   "source": [
    "Blood Glucose Level Distribution"
   ]
  },
  {
   "cell_type": "markdown",
   "id": "2fa575b0",
   "metadata": {},
   "source": [
    "Blood Glucose Level:\n",
    "\n",
    "Definition: Blood glucose level represents the concentration of glucose in the blood at a specific point in time.\n",
    "\n",
    "How it works: Glucose is the primary source of energy for cells, and blood glucose levels can fluctuate throughout the day based on factors like food intake, physical activity, and insulin production.\n",
    "\n",
    "Usage: Blood glucose levels are often measured through daily monitoring, especially for people with diabetes. It provides immediate information about how the body is handling glucose at a particular moment."
   ]
  },
  {
   "cell_type": "code",
   "execution_count": null,
   "id": "5766f22b",
   "metadata": {
    "scrolled": true
   },
   "outputs": [],
   "source": [
    "# Blood Glucose Level Distribution\n",
    "plt.hist(df[df['diabetes'] == 1]['blood_glucose_level'], bins=10, alpha=1, label='Diabetic', color='red')\n",
    "plt.hist(df[df['diabetes'] == 0]['blood_glucose_level'], bins=10, alpha=0.5, label='Non-Diabetic', color='blue')\n",
    "\n",
    "plt.title('Distribution of Blood Glucose Level at a Specific Point of Time with Diabetic Status')\n",
    "plt.xlabel('Blood Glucose Level')\n",
    "plt.ylabel('Frequency')\n",
    "plt.legend()"
   ]
  },
  {
   "cell_type": "markdown",
   "id": "b8bcd9fd",
   "metadata": {},
   "source": [
    "Box Plots"
   ]
  },
  {
   "cell_type": "code",
   "execution_count": null,
   "id": "27c05b4f",
   "metadata": {
    "scrolled": false
   },
   "outputs": [],
   "source": [
    "# Set up the figure with subplots\n",
    "fig, axes = plt.subplots(nrows=2, ncols=2, figsize=(12, 10))\n",
    "\n",
    "# Box plot of Age by Diabetes Status\n",
    "sns.boxplot(x='diabetes', y='age', data=df, ax=axes[0, 0])\n",
    "axes[0, 0].set_title('Age Distribution by Diabetes Status')\n",
    "\n",
    "# Box plot of BMI by Diabetes Status\n",
    "sns.boxplot(x='diabetes', y='bmi', data=df, ax=axes[0, 1])\n",
    "axes[0, 1].set_title('BMI Distribution by Diabetes Status')\n",
    "\n",
    "# Box plot of HbA1c Level by Diabetes Status\n",
    "sns.boxplot(x='diabetes', y='HbA1c_level', data=df, ax=axes[1, 0])\n",
    "axes[1, 0].set_title('HbA1c Level Distribution by Diabetes Status')\n",
    "\n",
    "# Box plot of Blood Glucose Level by Diabetes Status\n",
    "sns.boxplot(x='diabetes', y='blood_glucose_level', data=df, ax=axes[1, 1])\n",
    "axes[1, 1].set_title('Blood Glucose Level Distribution by Diabetes Status')\n",
    "\n",
    "# Adjust layout\n",
    "plt.tight_layout()\n",
    "plt.show()\n"
   ]
  },
  {
   "cell_type": "markdown",
   "id": "05c536e6",
   "metadata": {},
   "source": [
    "Correlation Matrix"
   ]
  },
  {
   "cell_type": "code",
   "execution_count": null,
   "id": "a09f26fa",
   "metadata": {
    "scrolled": false
   },
   "outputs": [],
   "source": [
    "# Select numerical columns (excluding 'gender')\n",
    "numerical_columns = df.select_dtypes(include=['number']).columns\n",
    "\n",
    "# Compute the correlation matrix for selected columns\n",
    "corr_matrix = df[numerical_columns].corr()\n",
    "\n",
    "# Plot the correlation coefficients heatmap\n",
    "plt.figure(figsize=(12, 8))\n",
    "sns.heatmap(corr_matrix, annot=True, cmap='coolwarm', fmt=\".2f\", linewidths=.5)\n",
    "plt.title('Correlation Coefficients Heatmap')\n",
    "plt.show()\n"
   ]
  },
  {
   "cell_type": "markdown",
   "id": "67ae7ba0",
   "metadata": {},
   "source": [
    "3. Data Pre-processing"
   ]
  },
  {
   "cell_type": "markdown",
   "id": "e9631098",
   "metadata": {},
   "source": [
    "3.1 Handling Missing Data"
   ]
  },
  {
   "cell_type": "code",
   "execution_count": null,
   "id": "bb1ae067",
   "metadata": {
    "scrolled": false
   },
   "outputs": [],
   "source": [
    "for column_name in df.columns:\n",
    "    total_na_rows = df[column_name].isna().sum()\n",
    "    print(f\"Total NaN rows in column {column_name}: {total_na_rows}\")"
   ]
  },
  {
   "cell_type": "markdown",
   "id": "90241a53",
   "metadata": {},
   "source": [
    "Since there is no missing data, we do not need to handle. "
   ]
  },
  {
   "cell_type": "markdown",
   "id": "4b3dcd40",
   "metadata": {},
   "source": [
    "3.2 Handling Outliers"
   ]
  },
  {
   "cell_type": "code",
   "execution_count": null,
   "id": "c1bdc4c8",
   "metadata": {},
   "outputs": [],
   "source": [
    "# Create an empty DataFrame to store outliers\n",
    "df_outliers_only = pd.DataFrame(columns=df.columns)\n",
    "\n",
    "# Function to calculate the 3-standard deviation range\n",
    "def three_sd_range(series):\n",
    "    mean = series.mean()\n",
    "    sd = series.std()\n",
    "    low = mean - 3 * sd\n",
    "    high = mean + 3 * sd\n",
    "    \n",
    "    return (low, high)\n",
    "\n",
    "# Iterate through numerical columns without binary values\n",
    "# columns - age, bmi, HbA1c_level, blood_glucose_level\n",
    "for col_name in ['age', 'bmi', 'HbA1c_level', 'blood_glucose_level']:\n",
    "    lower, upper = three_sd_range(df[col_name])\n",
    "    outliers_mask = (df[col_name] < lower) | (df[col_name] > upper)\n",
    "    \n",
    "    # Print information about outliers in each column\n",
    "    print(f\"{col_name} has outliers: {outliers_mask.any()}\")\n",
    "    \n",
    "    # Collect outliers into the DataFrame\n",
    "    df_outliers_only = pd.concat([df_outliers_only, df[outliers_mask]])\n",
    "\n",
    "# Display the DataFrame with outliers only\n",
    "print(\"\\nDataFrame with Outliers Only:\")\n",
    "df_outliers_only\n"
   ]
  },
  {
   "cell_type": "markdown",
   "id": "54ff9198",
   "metadata": {},
   "source": [
    "3.3 Data Encoding"
   ]
  },
  {
   "cell_type": "code",
   "execution_count": null,
   "id": "25d7d152",
   "metadata": {},
   "outputs": [],
   "source": [
    "# Check the data types\n",
    "df.dtypes"
   ]
  },
  {
   "cell_type": "markdown",
   "id": "4c2ad576",
   "metadata": {},
   "source": [
    "Gender Encoding"
   ]
  },
  {
   "cell_type": "markdown",
   "id": "7c03a51c",
   "metadata": {},
   "source": [
    "WOEEncoder\n",
    "\n",
    "is a type of categorical encoding technique used in machine learning, particularly in the context of handling categorical variables in predictive modeling tasks, such as binary classification. WOE stands for \"Weight of Evidence.\" It is designed for categorical variables, which can include both ordinal and nominal data. It's a popular encoding technique in credit scoring and fraud detection.\n",
    "\n",
    "In summary, while label encoding simply assigns numerical labels to categories, WOE encoding calculates numerical values based on the relationship between each category and the target variable, providing more meaningful representations for categorical variables in certain modeling contexts, especially those where the predictive power of categorical variables is crucial."
   ]
  },
  {
   "cell_type": "code",
   "execution_count": null,
   "id": "7a74b399",
   "metadata": {},
   "outputs": [],
   "source": [
    "df['gender'].unique()"
   ]
  },
  {
   "cell_type": "code",
   "execution_count": null,
   "id": "b95f6a87",
   "metadata": {
    "scrolled": true
   },
   "outputs": [],
   "source": [
    "#Applying WOE encoding for gender\n",
    "\n",
    "# Initialize the WOEEncoder\n",
    "woe_encoder = ce.WOEEncoder(cols=['gender'])\n",
    "\n",
    "# Fit and transform the encoder on the data\n",
    "encoded_gender_df = woe_encoder.fit_transform(df['gender'], df['diabetes'])\n",
    "\n",
    "# Concatenate the encoded data with the original DataFrame\n",
    "df_encoded_gender = pd.concat([df, encoded_gender_df], axis=1)\n",
    "\n",
    "print(df_encoded_gender.head())"
   ]
  },
  {
   "cell_type": "markdown",
   "id": "61e49397",
   "metadata": {},
   "source": [
    "Smoking History Encoding"
   ]
  },
  {
   "cell_type": "code",
   "execution_count": null,
   "id": "ff8fc74c",
   "metadata": {},
   "outputs": [],
   "source": [
    "df['smoking history'].unique()"
   ]
  },
  {
   "cell_type": "code",
   "execution_count": null,
   "id": "672c001e",
   "metadata": {},
   "outputs": [],
   "source": [
    "#Applying WOE encoding for smoking history\n",
    "\n",
    "# Initialize the WOEEncoder\n",
    "woe_encoder = ce.WOEEncoder(cols=['smoking_history'])\n",
    "\n",
    "# Fit and transform the encoder on the data\n",
    "encoded_smoking_history_df = woe_encoder.fit_transform(df['smoking_history'], df['diabetes'])\n",
    "\n",
    "# Concatenate the encoded data with the encoded gender df\n",
    "df_encoded = pd.concat([df_encoded_gender, encoded_smoking_history_df], axis=1)\n",
    "\n",
    "print(df_encoded.head())"
   ]
  },
  {
   "cell_type": "markdown",
   "id": "e9e62880",
   "metadata": {},
   "source": [
    "3.4 Downsampling "
   ]
  },
  {
   "cell_type": "markdown",
   "id": "753b6cbf",
   "metadata": {},
   "source": [
    "Downsampling involves reducing the number of instances in the majority class to balance it with the number of instances in the minority class.\n",
    "\n",
    "This helps prevent the machine learning model from being biased towards the majority class and improves its ability to learn patterns from the minority class."
   ]
  },
  {
   "cell_type": "code",
   "execution_count": null,
   "id": "fb7e4b1d",
   "metadata": {},
   "outputs": [],
   "source": [
    "is_diabetic = df[\"diabetes\"].value_counts()\n",
    "print(\"Yes: \",is_diabetic[1])\n",
    "print(\"No: \",is_diabetic[0])"
   ]
  },
  {
   "cell_type": "markdown",
   "id": "42c07d2e",
   "metadata": {},
   "source": [
    "We have accessed that the dataset is unbalanced. The diabetic count, the variable to predict is not represented equally."
   ]
  },
  {
   "cell_type": "code",
   "execution_count": null,
   "id": "16acaf8a",
   "metadata": {},
   "outputs": [],
   "source": [
    "No_class = df_encoded[df_encoded[\"diabetes\"]==0]\n",
    "Yes_class = df_encoded[df_encoded[\"diabetes\"]==1]\n",
    "\n",
    "No_class = resample(No_class, replace=False, n_samples=len(Yes_class))\n",
    "down_samples = pd.concat([Yes_class, No_class], axis=0)\n",
    "\n",
    "# Count the occurrences of each class in the original dataset\n",
    "original_class_counts = df_encoded[\"diabetes\"].value_counts()\n",
    "\n",
    "# Count the occurrences of each class in the downsampled dataset\n",
    "downsampled_class_counts = down_samples[\"diabetes\"].value_counts()\n",
    "\n",
    "# Calculate the percentage of each class\n",
    "original_percentages = original_class_counts / len(df_encoded) * 100\n",
    "downsampled_percentages = downsampled_class_counts / len(down_samples) * 100\n",
    "\n",
    "# Plotting\n",
    "plt.figure(figsize=(12, 6))\n",
    "\n",
    "# Bar chart for original class distribution\n",
    "plt.subplot(1, 2, 1)\n",
    "bars_1 = plt.bar(original_class_counts.index, original_class_counts.values, color=['orange', 'green'])\n",
    "for bar, label in zip(bars_1, original_percentages):\n",
    "    plt.text(bar.get_x() + bar.get_width() / 2, bar.get_height() + 5, f'{label:.2f}%', ha='center', va='bottom')\n",
    "plt.title('Original Diabetes Class Distribution')\n",
    "plt.xlabel('Class')\n",
    "plt.ylabel('Count')\n",
    "plt.xticks(original_class_counts.index, ['0', '1'])\n",
    "\n",
    "# Bar chart for downsampled class distribution\n",
    "plt.subplot(1, 2, 2)\n",
    "bars_2 = plt.bar(downsampled_class_counts.index, downsampled_class_counts.values, color=['orange', 'green'])\n",
    "for bar, label in zip(bars_2, downsampled_percentages):\n",
    "    plt.text(bar.get_x() + bar.get_width() / 2, bar.get_height() + 5, f'{label:.2f}%', ha='center', va='bottom')\n",
    "plt.title('Downsampled Diabetes Class Distribution')\n",
    "plt.xlabel('Class')\n",
    "plt.ylabel('Count')\n",
    "plt.xticks(downsampled_class_counts.index, ['0', '1'])\n",
    "\n",
    "plt.tight_layout() # the plots will be automatically adjusted to ensure that there is no overlap between subplots and that all elements are clearly visible.\n",
    "plt.show()"
   ]
  },
  {
   "cell_type": "code",
   "execution_count": null,
   "id": "0393cbed",
   "metadata": {},
   "outputs": [],
   "source": [
    "down_samples"
   ]
  },
  {
   "cell_type": "code",
   "execution_count": null,
   "id": "571abc26",
   "metadata": {},
   "outputs": [],
   "source": []
  }
 ],
 "metadata": {
  "kernelspec": {
   "display_name": "Python 3 (ipykernel)",
   "language": "python",
   "name": "python3"
  },
  "language_info": {
   "codemirror_mode": {
    "name": "ipython",
    "version": 3
   },
   "file_extension": ".py",
   "mimetype": "text/x-python",
   "name": "python",
   "nbconvert_exporter": "python",
   "pygments_lexer": "ipython3",
   "version": "3.11.5"
  }
 },
 "nbformat": 4,
 "nbformat_minor": 5
}
