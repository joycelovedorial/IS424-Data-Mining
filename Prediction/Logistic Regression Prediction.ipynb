{
 "cells": [
  {
   "cell_type": "code",
   "execution_count": 1,
   "id": "e87fbd7b-4507-472a-97a9-f9bf969d9335",
   "metadata": {},
   "outputs": [],
   "source": [
    "import pandas as pd\n",
    "\n",
    "from sklearn.model_selection import train_test_split\n",
    "from sklearn.linear_model import LogisticRegression\n",
    "from sklearn.metrics import confusion_matrix, accuracy_score, precision_score, recall_score, f1_score, roc_auc_score \n",
    "\n",
    "import seaborn as sns\n",
    "import matplotlib.pyplot as plt\n",
    "plt.style.use('ggplot')"
   ]
  },
  {
   "cell_type": "code",
   "execution_count": 2,
   "id": "d05e574c-1f99-4f88-ba08-92f1a5af4818",
   "metadata": {},
   "outputs": [],
   "source": [
    "df_no_outliers = pd.read_csv('new_df_without_outliers_copy_smote_resampled.csv')\n",
    "df_outliers = pd.read_csv('new_df_outliers_only_copy_smote_resampled.csv')\n",
    "\n",
    "X_no_outliers = df_no_outliers.iloc[:, 0:8]\n",
    "y_no_outliers = df_no_outliers['diabetes']\n",
    "\n",
    "X_with_outliers = df_outliers.iloc[:, 0:8]\n",
    "y_with_outliers = df_outliers['diabetes']\n"
   ]
  },
  {
   "cell_type": "markdown",
   "id": "d667e9ab-9075-49a2-8bf2-f2208c5e5816",
   "metadata": {},
   "source": [
    "<h3> Logistic Regression on df_no_outliers<h3>"
   ]
  },
  {
   "cell_type": "code",
   "execution_count": 3,
   "id": "7a46ca91-cd52-493d-88f4-f4a2e7a91fc6",
   "metadata": {},
   "outputs": [],
   "source": [
    "# split dataset to training and test dataset\n",
    "X_train, X_test, y_train, y_test = train_test_split(X_no_outliers, y_no_outliers, \n",
    "                                                          test_size = 0.25, random_state = 2020)\n",
    "\n",
    "lr = LogisticRegression()\n",
    "lr.fit(X_train, y_train)\n",
    "lr_pred = lr.predict(X_test)"
   ]
  },
  {
   "cell_type": "code",
   "execution_count": 4,
   "id": "13323a98-a363-42a4-96e4-66b0dd4466c1",
   "metadata": {},
   "outputs": [
    {
     "name": "stdout",
     "output_type": "stream",
     "text": [
      "Confusion Matrix:\n",
      "[[19408  3329]\n",
      " [ 2468 20081]]\n"
     ]
    }
   ],
   "source": [
    "# Confusion Matrix\n",
    "print('Confusion Matrix:')\n",
    "cm = confusion_matrix(y_test, lr_pred)\n",
    "print(cm)"
   ]
  },
  {
   "cell_type": "code",
   "execution_count": 5,
   "id": "5034bdb9-55d9-4260-b365-49459be42057",
   "metadata": {},
   "outputs": [
    {
     "data": {
      "image/png": "[encoded data removed]",
      "text/plain": [
       "<Figure size 400x300 with 2 Axes>"
      ]
     },
     "metadata": {},
     "output_type": "display_data"
    }
   ],
   "source": [
    "# Heatmap of Confusion Matrix\n",
    "class_labels = [\"Class 0\", \"Class 1\"]\n",
    "plt.figure(figsize=(4, 3))\n",
    "sns.heatmap(cm, annot=True, fmt=\"d\", cmap=\"Blues\", xticklabels=class_labels, yticklabels=class_labels)\n",
    "plt.xlabel(\"Predicted\")\n",
    "plt.ylabel(\"True\")\n",
    "plt.title(\"Confusion Matrix\")\n",
    "plt.show()"
   ]
  },
  {
   "cell_type": "code",
   "execution_count": 6,
   "id": "e1fb14a8-f4be-4d6d-87c6-fde450752b40",
   "metadata": {},
   "outputs": [
    {
     "name": "stdout",
     "output_type": "stream",
     "text": [
      "Accuracy:\n",
      "0.871991343903193\n",
      "\n",
      "Precision:\n",
      "0.8577958137548056\n",
      "\n",
      "Recall:\n",
      "0.8905494700430174\n",
      "\n",
      "F1 score:\n",
      "0.8738658369416219\n",
      "\n",
      "ROC AUC score:\n",
      "0.8720680674752186\n"
     ]
    }
   ],
   "source": [
    "# Performance Evaluation \n",
    "print('Accuracy:')\n",
    "print(accuracy_score(y_test, lr_pred))\n",
    "\n",
    "print('\\nPrecision:')\n",
    "print(precision_score(y_test, lr_pred))\n",
    "\n",
    "print('\\nRecall:')\n",
    "print(recall_score(y_test, lr_pred))\n",
    "\n",
    "print('\\nF1 score:')\n",
    "print(f1_score(y_test, lr_pred))\n",
    "\n",
    "print('\\nROC AUC score:')\n",
    "print(roc_auc_score(y_test, lr_pred))"
   ]
  },
  {
   "cell_type": "code",
   "execution_count": 7,
   "id": "7392cc31-7437-47a9-b02d-bce6032516c8",
   "metadata": {},
   "outputs": [
    {
     "name": "stdout",
     "output_type": "stream",
     "text": [
      "Training Accuracy: 0.8706811523796906\n",
      "Testing Accuracy: 0.871991343903193\n",
      "Cross Validation Accuracy: 0.8705781272470449\n"
     ]
    }
   ],
   "source": [
    "print('Training Accuracy: ' + str(accuracy_score(y_train, lr.predict(X_train))))\n",
    "print('Testing Accuracy: ' + str(accuracy_score(y_test, lr_pred)))\n",
    "\n",
    "# Cross Validation\n",
    "from sklearn import model_selection\n",
    "from sklearn.model_selection import cross_val_score\n",
    "\n",
    "kfold = model_selection.KFold(n_splits = 15, random_state = 42, shuffle = True)\n",
    "\n",
    "cv_lr = cross_val_score(estimator = lr, X = X_train, y = y_train, cv = kfold, scoring='accuracy')\n",
    "print('Cross Validation Accuracy: ' + str(cv_lr.mean()))"
   ]
  },
  {
   "cell_type": "code",
   "execution_count": 8,
   "id": "3287d4d2-6123-46ad-8130-91a8a1906050",
   "metadata": {},
   "outputs": [
    {
     "name": "stdout",
     "output_type": "stream",
     "text": [
      "[0]\n",
      "Non-Diabetic\n"
     ]
    },
    {
     "name": "stderr",
     "output_type": "stream",
     "text": [
      "C:\\Users\\User\\anaconda3_2024\\Lib\\site-packages\\sklearn\\base.py:439: UserWarning: X does not have valid feature names, but LogisticRegression was fitted with feature names\n",
      "  warnings.warn(\n"
     ]
    }
   ],
   "source": [
    "# Predict whether one has diabetes or not\n",
    "y_predict = lr.predict([[0.177804, 0, 0, 2.484643, -1.474115, 1.459008, -1.579747, 1.211318]])\n",
    "print(y_predict)\n",
    "if y_predict==1:\n",
    "    print(\"Diabetic\")\n",
    "else:\n",
    "    print(\"Non-Diabetic\")"
   ]
  },
  {
   "cell_type": "code",
   "execution_count": 9,
   "id": "7ba78530-146b-4395-89d9-9c61e81bd38e",
   "metadata": {},
   "outputs": [
    {
     "name": "stdout",
     "output_type": "stream",
     "text": [
      "[1]\n",
      "Diabetic\n"
     ]
    },
    {
     "name": "stderr",
     "output_type": "stream",
     "text": [
      "C:\\Users\\User\\anaconda3_2024\\Lib\\site-packages\\sklearn\\base.py:439: UserWarning: X does not have valid feature names, but LogisticRegression was fitted with feature names\n",
      "  warnings.warn(\n"
     ]
    }
   ],
   "source": [
    "y_predict = lr.predict([[1.349487, 1, 0, -0.241118, 0.015748, 0.263730, 1.103451, -0.578758]])\n",
    "print(y_predict)\n",
    "if y_predict==1:\n",
    "    print(\"Diabetic\")\n",
    "else:\n",
    "    print(\"Non-Diabetic\")"
   ]
  },
  {
   "cell_type": "markdown",
   "id": "e372e4ad-069f-4c5f-8e06-c8f379a221eb",
   "metadata": {},
   "source": [
    "<h3> Logistic Regression on df_outliers<h3>"
   ]
  },
  {
   "cell_type": "code",
   "execution_count": 10,
   "id": "8f5a1a8e-4466-48fc-82e6-7777ed05c3ab",
   "metadata": {},
   "outputs": [],
   "source": [
    "# split dataset to training and test dataset\n",
    "X_train, X_test, y_train, y_test = train_test_split(X_with_outliers, y_with_outliers, \n",
    "                                                          test_size = 0.25, random_state = 2020)\n",
    "\n",
    "lr = LogisticRegression()\n",
    "lr.fit(X_train, y_train)\n",
    "lr_pred = lr.predict(X_test)"
   ]
  },
  {
   "cell_type": "code",
   "execution_count": 11,
   "id": "91cbc3e3-0cd3-42ce-b978-331bd707e45c",
   "metadata": {},
   "outputs": [
    {
     "name": "stdout",
     "output_type": "stream",
     "text": [
      "Confusion Matrix:\n",
      "[[774  11]\n",
      " [ 19 738]]\n"
     ]
    }
   ],
   "source": [
    "# Confusion Matrix\n",
    "print('Confusion Matrix:')\n",
    "cm = confusion_matrix(y_test, lr_pred)\n",
    "print(cm)"
   ]
  },
  {
   "cell_type": "code",
   "execution_count": 12,
   "id": "9afb54ac-d9cf-4fc8-b5ea-c8cf339d98e2",
   "metadata": {},
   "outputs": [
    {
     "data": {
      "image/png": "[encoded data removed]",
      "text/plain": [
       "<Figure size 400x300 with 2 Axes>"
      ]
     },
     "metadata": {},
     "output_type": "display_data"
    }
   ],
   "source": [
    "# Heatmap of Confusion Matrix\n",
    "class_labels = [\"Class 0\", \"Class 1\"]\n",
    "plt.figure(figsize=(4, 3))\n",
    "sns.heatmap(cm, annot=True, fmt=\"d\", cmap=\"Blues\", xticklabels=class_labels, yticklabels=class_labels)\n",
    "plt.xlabel(\"Predicted\")\n",
    "plt.ylabel(\"True\")\n",
    "plt.title(\"Confusion Matrix\")\n",
    "plt.show()"
   ]
  },
  {
   "cell_type": "code",
   "execution_count": 13,
   "id": "1cdc7764-71ad-4c45-8df5-ede58a7b7190",
   "metadata": {},
   "outputs": [
    {
     "name": "stdout",
     "output_type": "stream",
     "text": [
      "Accuracy:\n",
      "0.980544747081712\n",
      "\n",
      "Precision:\n",
      "0.9853137516688919\n",
      "\n",
      "Recall:\n",
      "0.9749009247027741\n",
      "\n",
      "F1 score:\n",
      "0.9800796812749005\n",
      "\n",
      "ROC AUC score:\n",
      "0.9804440929246355\n"
     ]
    }
   ],
   "source": [
    "# Performance Evaluation \n",
    "print('Accuracy:')\n",
    "print(accuracy_score(y_test, lr_pred))\n",
    "\n",
    "print('\\nPrecision:')\n",
    "print(precision_score(y_test, lr_pred))\n",
    "\n",
    "print('\\nRecall:')\n",
    "print(recall_score(y_test, lr_pred))\n",
    "\n",
    "print('\\nF1 score:')\n",
    "print(f1_score(y_test, lr_pred))\n",
    "\n",
    "print('\\nROC AUC score:')\n",
    "print(roc_auc_score(y_test, lr_pred))"
   ]
  },
  {
   "cell_type": "code",
   "execution_count": 14,
   "id": "68f73561-fc73-4b3a-bd75-a8492aa36db9",
   "metadata": {},
   "outputs": [
    {
     "name": "stdout",
     "output_type": "stream",
     "text": [
      "Training Accuracy: 0.9664937310851708\n",
      "Testing Accuracy: 0.980544747081712\n",
      "Cross Validation Accuracy: 0.9664971490214209\n"
     ]
    }
   ],
   "source": [
    "print('Training Accuracy: ' + str(accuracy_score(y_train, lr.predict(X_train))))\n",
    "print('Testing Accuracy: ' + str(accuracy_score(y_test, lr_pred)))\n",
    "\n",
    "# Cross Validation\n",
    "from sklearn import model_selection\n",
    "from sklearn.model_selection import cross_val_score\n",
    "\n",
    "kfold = model_selection.KFold(n_splits = 15, random_state = 42, shuffle = True)\n",
    "\n",
    "cv_lr = cross_val_score(estimator = lr, X = X_train, y = y_train, cv = kfold, scoring='accuracy')\n",
    "print('Cross Validation Accuracy: ' + str(cv_lr.mean()))"
   ]
  },
  {
   "cell_type": "code",
   "execution_count": 15,
   "id": "240b9f64-eca6-451e-9a60-e9704ac19475",
   "metadata": {},
   "outputs": [
    {
     "name": "stdout",
     "output_type": "stream",
     "text": [
      "[1]\n",
      "Diabetic\n"
     ]
    },
    {
     "name": "stderr",
     "output_type": "stream",
     "text": [
      "C:\\Users\\User\\anaconda3_2024\\Lib\\site-packages\\sklearn\\base.py:439: UserWarning: X does not have valid feature names, but LogisticRegression was fitted with feature names\n",
      "  warnings.warn(\n"
     ]
    }
   ],
   "source": [
    "# Predict whether one has diabetes or not\n",
    "y_predict = lr.predict([[0.449954, 1, 1, 0.341732, -0.410728, -0.364914, -0.280453, 1.417943]])\n",
    "print(y_predict)\n",
    "if y_predict==1:\n",
    "    print(\"Diabetic\")\n",
    "else:\n",
    "    print(\"Non-Diabetic\")"
   ]
  },
  {
   "cell_type": "code",
   "execution_count": 16,
   "id": "cd8a86d8-43e7-433d-b44f-d4f4445e7d17",
   "metadata": {},
   "outputs": [
    {
     "name": "stdout",
     "output_type": "stream",
     "text": [
      "[0]\n",
      "Non-Diabetic\n"
     ]
    },
    {
     "name": "stderr",
     "output_type": "stream",
     "text": [
      "C:\\Users\\User\\anaconda3_2024\\Lib\\site-packages\\sklearn\\base.py:439: UserWarning: X does not have valid feature names, but LogisticRegression was fitted with feature names\n",
      "  warnings.warn(\n"
     ]
    }
   ],
   "source": [
    "y_predict = lr.predict([[-1.018012, 0, 0, 0.341732, -0.410728, -0.405756, -0.280453, -0.777719]])\n",
    "print(y_predict)\n",
    "if y_predict==1:\n",
    "    print(\"Diabetic\")\n",
    "else:\n",
    "    print(\"Non-Diabetic\")"
   ]
  },
  {
   "cell_type": "code",
   "execution_count": null,
   "id": "33137f32-c20a-4853-acfc-0506d015e091",
   "metadata": {},
   "outputs": [],
   "source": []
  }
 ],
 "metadata": {
  "kernelspec": {
   "display_name": "Python 3 (ipykernel)",
   "language": "python",
   "name": "python3"
  },
  "language_info": {
   "codemirror_mode": {
    "name": "ipython",
    "version": 3
   },
   "file_extension": ".py",
   "mimetype": "text/x-python",
   "name": "python",
   "nbconvert_exporter": "python",
   "pygments_lexer": "ipython3",
   "version": "3.11.7"
  }
 },
 "nbformat": 4,
 "nbformat_minor": 5
}
